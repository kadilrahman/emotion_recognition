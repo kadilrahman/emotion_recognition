{
  "cells": [
    {
      "cell_type": "markdown",
      "metadata": {
        "id": "view-in-github",
        "colab_type": "text"
      },
      "source": [
        "<a href=\"https://colab.research.google.com/github/kadilrahman/emotion_recognition/blob/master/Emotion_Recognition.ipynb\" target=\"_parent\"><img src=\"https://colab.research.google.com/assets/colab-badge.svg\" alt=\"Open In Colab\"/></a>"
      ]
    },
    {
      "cell_type": "markdown",
      "metadata": {
        "id": "QIAw-tO8ZmNG"
      },
      "source": [
        "# Overview:\n",
        "\n",
        "We performed the Emotion Recognition Task using Random Forest Classifier, Deep Neural Networks Model, Convolutional Neural Networks (CNN), Residual Network Model (ResNet), Convolutional Recurrent Neural Network Model (CRNN), and Transformer Model. One of the main challenges we faced is the lack of standard datasets and benchmarks along with the huge size of the dataset which made it hard for us to process it and execute the algorithms. In terms of recommendations, we would highly recommend carefully preprocess the data and select appropriate features that capture the relevant emotional cues. We also find that it is important to tune in appropriate parameters/hyperparameters so as to obtain optimum performance."
      ]
    },
    {
      "cell_type": "code",
      "execution_count": null,
      "metadata": {
        "id": "Cfa56-Z3ZkE2"
      },
      "outputs": [],
      "source": [
        "Angry=0\n",
        "Disgust=1\n",
        "Fear=2\n",
        "Happy=3\n",
        "Sad=4\n",
        "Surprise=5\n",
        "Neutral=6"
      ]
    },
    {
      "cell_type": "code",
      "execution_count": null,
      "metadata": {
        "id": "bDr4TkWaAWDf"
      },
      "outputs": [],
      "source": [
        "import itertools\n",
        "import tensorflow as tf\n",
        "from tensorflow import keras\n",
        "import os\n",
        "import pandas as pd\n",
        "import numpy as np\n",
        "from matplotlib import pyplot as plt\n",
        "from sklearn.model_selection import train_test_split\n",
        "from PIL import Image\n",
        "\n",
        "from keras import models\n",
        "from keras import layers\n",
        "from keras import optimizers\n",
        "from keras import Sequential\n",
        "from keras import regularizers\n",
        "from sklearn.metrics import f1_score, precision_score, recall_score\n",
        "from sklearn.metrics import classification_report, confusion_matrix\n",
        "from keras.applications import VGG16, VGG19\n",
        "from keras.layers import Flatten, Dropout, Reshape,Dense\n",
        "from keras.callbacks import EarlyStopping\n",
        "from keras.layers.convolutional import Conv2D, MaxPooling2D\n",
        "from keras.models import model_from_json"
      ]
    },
    {
      "cell_type": "code",
      "execution_count": null,
      "metadata": {
        "colab": {
          "base_uri": "https://localhost:8080/"
        },
        "id": "vpVBaBcNi5GV",
        "outputId": "98c9bd86-1278-453d-f50c-0d36a20a984c"
      },
      "outputs": [
        {
          "name": "stdout",
          "output_type": "stream",
          "text": [
            "Drive already mounted at /content/drive; to attempt to forcibly remount, call drive.mount(\"/content/drive\", force_remount=True).\n"
          ]
        }
      ],
      "source": [
        "from google.colab import drive\n",
        "drive.mount('/content/drive')"
      ]
    },
    {
      "cell_type": "code",
      "execution_count": null,
      "metadata": {
        "id": "wgMSNtfHAkIT"
      },
      "outputs": [],
      "source": [
        "df_test = pd.read_csv('/content/drive/MyDrive/DL/my_emotion_test.csv')\n",
        "df_train = pd.read_csv('/content/drive/MyDrive/DL/my_emotion_train.csv')"
      ]
    },
    {
      "cell_type": "markdown",
      "metadata": {
        "id": "G5SSUZezd8d-"
      },
      "source": [
        "# Method:\n",
        "\n",
        "The given dataset primarily consists of two sub-datasets namely training and testing. The training dataset consists of 3 features namely “id”, “emotion” and “pixels” wherein “id” represents the index number, “emotion” consists of all the types of emotions namely Angry, Disgust, Fear, Happy, Sad, Surprise and Neutral and “pixels” representing the data pertaining to the respective emotions. The testing dataset consists of primarily 2 features namely “id” and “pixels” which are used as an input to predict the “emotion” of the input variables. Given this data, we learnt that it is essential to carefully preprocess the data so as to obtain optimum efficiency."
      ]
    },
    {
      "cell_type": "code",
      "execution_count": null,
      "metadata": {
        "colab": {
          "base_uri": "https://localhost:8080/",
          "height": 206
        },
        "id": "2DcqepPdArVi",
        "outputId": "3362e8cd-8bbc-469f-a3d1-325808c3908a"
      },
      "outputs": [
        {
          "data": {
            "text/html": [
              "\n",
              "  <div id=\"df-33c62cf0-f247-495b-896c-0a658201987c\">\n",
              "    <div class=\"colab-df-container\">\n",
              "      <div>\n",
              "<style scoped>\n",
              "    .dataframe tbody tr th:only-of-type {\n",
              "        vertical-align: middle;\n",
              "    }\n",
              "\n",
              "    .dataframe tbody tr th {\n",
              "        vertical-align: top;\n",
              "    }\n",
              "\n",
              "    .dataframe thead th {\n",
              "        text-align: right;\n",
              "    }\n",
              "</style>\n",
              "<table border=\"1\" class=\"dataframe\">\n",
              "  <thead>\n",
              "    <tr style=\"text-align: right;\">\n",
              "      <th></th>\n",
              "      <th>id</th>\n",
              "      <th>emotion</th>\n",
              "      <th>pixels</th>\n",
              "    </tr>\n",
              "  </thead>\n",
              "  <tbody>\n",
              "    <tr>\n",
              "      <th>0</th>\n",
              "      <td>9415</td>\n",
              "      <td>6</td>\n",
              "      <td>29 16 18 18 18 20 19 18 17 17 17 18 17 18 17 1...</td>\n",
              "    </tr>\n",
              "    <tr>\n",
              "      <th>1</th>\n",
              "      <td>19109</td>\n",
              "      <td>3</td>\n",
              "      <td>126 154 167 181 188 194 195 194 196 195 198 20...</td>\n",
              "    </tr>\n",
              "    <tr>\n",
              "      <th>2</th>\n",
              "      <td>21523</td>\n",
              "      <td>2</td>\n",
              "      <td>169 220 218 208 184 144 72 73 143 183 203 210 ...</td>\n",
              "    </tr>\n",
              "    <tr>\n",
              "      <th>3</th>\n",
              "      <td>2076</td>\n",
              "      <td>3</td>\n",
              "      <td>60 64 72 80 83 83 80 82 89 106 114 125 125 127...</td>\n",
              "    </tr>\n",
              "    <tr>\n",
              "      <th>4</th>\n",
              "      <td>13957</td>\n",
              "      <td>3</td>\n",
              "      <td>174 148 121 97 78 70 62 57 54 54 42 58 40 64 1...</td>\n",
              "    </tr>\n",
              "  </tbody>\n",
              "</table>\n",
              "</div>\n",
              "      <button class=\"colab-df-convert\" onclick=\"convertToInteractive('df-33c62cf0-f247-495b-896c-0a658201987c')\"\n",
              "              title=\"Convert this dataframe to an interactive table.\"\n",
              "              style=\"display:none;\">\n",
              "        \n",
              "  <svg xmlns=\"http://www.w3.org/2000/svg\" height=\"24px\"viewBox=\"0 0 24 24\"\n",
              "       width=\"24px\">\n",
              "    <path d=\"M0 0h24v24H0V0z\" fill=\"none\"/>\n",
              "    <path d=\"M18.56 5.44l.94 2.06.94-2.06 2.06-.94-2.06-.94-.94-2.06-.94 2.06-2.06.94zm-11 1L8.5 8.5l.94-2.06 2.06-.94-2.06-.94L8.5 2.5l-.94 2.06-2.06.94zm10 10l.94 2.06.94-2.06 2.06-.94-2.06-.94-.94-2.06-.94 2.06-2.06.94z\"/><path d=\"M17.41 7.96l-1.37-1.37c-.4-.4-.92-.59-1.43-.59-.52 0-1.04.2-1.43.59L10.3 9.45l-7.72 7.72c-.78.78-.78 2.05 0 2.83L4 21.41c.39.39.9.59 1.41.59.51 0 1.02-.2 1.41-.59l7.78-7.78 2.81-2.81c.8-.78.8-2.07 0-2.86zM5.41 20L4 18.59l7.72-7.72 1.47 1.35L5.41 20z\"/>\n",
              "  </svg>\n",
              "      </button>\n",
              "      \n",
              "  <style>\n",
              "    .colab-df-container {\n",
              "      display:flex;\n",
              "      flex-wrap:wrap;\n",
              "      gap: 12px;\n",
              "    }\n",
              "\n",
              "    .colab-df-convert {\n",
              "      background-color: #E8F0FE;\n",
              "      border: none;\n",
              "      border-radius: 50%;\n",
              "      cursor: pointer;\n",
              "      display: none;\n",
              "      fill: #1967D2;\n",
              "      height: 32px;\n",
              "      padding: 0 0 0 0;\n",
              "      width: 32px;\n",
              "    }\n",
              "\n",
              "    .colab-df-convert:hover {\n",
              "      background-color: #E2EBFA;\n",
              "      box-shadow: 0px 1px 2px rgba(60, 64, 67, 0.3), 0px 1px 3px 1px rgba(60, 64, 67, 0.15);\n",
              "      fill: #174EA6;\n",
              "    }\n",
              "\n",
              "    [theme=dark] .colab-df-convert {\n",
              "      background-color: #3B4455;\n",
              "      fill: #D2E3FC;\n",
              "    }\n",
              "\n",
              "    [theme=dark] .colab-df-convert:hover {\n",
              "      background-color: #434B5C;\n",
              "      box-shadow: 0px 1px 3px 1px rgba(0, 0, 0, 0.15);\n",
              "      filter: drop-shadow(0px 1px 2px rgba(0, 0, 0, 0.3));\n",
              "      fill: #FFFFFF;\n",
              "    }\n",
              "  </style>\n",
              "\n",
              "      <script>\n",
              "        const buttonEl =\n",
              "          document.querySelector('#df-33c62cf0-f247-495b-896c-0a658201987c button.colab-df-convert');\n",
              "        buttonEl.style.display =\n",
              "          google.colab.kernel.accessAllowed ? 'block' : 'none';\n",
              "\n",
              "        async function convertToInteractive(key) {\n",
              "          const element = document.querySelector('#df-33c62cf0-f247-495b-896c-0a658201987c');\n",
              "          const dataTable =\n",
              "            await google.colab.kernel.invokeFunction('convertToInteractive',\n",
              "                                                     [key], {});\n",
              "          if (!dataTable) return;\n",
              "\n",
              "          const docLinkHtml = 'Like what you see? Visit the ' +\n",
              "            '<a target=\"_blank\" href=https://colab.research.google.com/notebooks/data_table.ipynb>data table notebook</a>'\n",
              "            + ' to learn more about interactive tables.';\n",
              "          element.innerHTML = '';\n",
              "          dataTable['output_type'] = 'display_data';\n",
              "          await google.colab.output.renderOutput(dataTable, element);\n",
              "          const docLink = document.createElement('div');\n",
              "          docLink.innerHTML = docLinkHtml;\n",
              "          element.appendChild(docLink);\n",
              "        }\n",
              "      </script>\n",
              "    </div>\n",
              "  </div>\n",
              "  "
            ],
            "text/plain": [
              "      id  emotion                                             pixels\n",
              "0   9415        6  29 16 18 18 18 20 19 18 17 17 17 18 17 18 17 1...\n",
              "1  19109        3  126 154 167 181 188 194 195 194 196 195 198 20...\n",
              "2  21523        2  169 220 218 208 184 144 72 73 143 183 203 210 ...\n",
              "3   2076        3  60 64 72 80 83 83 80 82 89 106 114 125 125 127...\n",
              "4  13957        3  174 148 121 97 78 70 62 57 54 54 42 58 40 64 1..."
            ]
          },
          "execution_count": 5,
          "metadata": {},
          "output_type": "execute_result"
        }
      ],
      "source": [
        "df_train.head()"
      ]
    },
    {
      "cell_type": "code",
      "execution_count": null,
      "metadata": {
        "colab": {
          "base_uri": "https://localhost:8080/",
          "height": 206
        },
        "id": "PMluvNfRAvPj",
        "outputId": "7ad90059-0023-41df-ce32-29888ef72193"
      },
      "outputs": [
        {
          "data": {
            "text/html": [
              "\n",
              "  <div id=\"df-137337bd-ce2f-4f95-8871-75f586dc3a91\">\n",
              "    <div class=\"colab-df-container\">\n",
              "      <div>\n",
              "<style scoped>\n",
              "    .dataframe tbody tr th:only-of-type {\n",
              "        vertical-align: middle;\n",
              "    }\n",
              "\n",
              "    .dataframe tbody tr th {\n",
              "        vertical-align: top;\n",
              "    }\n",
              "\n",
              "    .dataframe thead th {\n",
              "        text-align: right;\n",
              "    }\n",
              "</style>\n",
              "<table border=\"1\" class=\"dataframe\">\n",
              "  <thead>\n",
              "    <tr style=\"text-align: right;\">\n",
              "      <th></th>\n",
              "      <th>id</th>\n",
              "      <th>pixels</th>\n",
              "    </tr>\n",
              "  </thead>\n",
              "  <tbody>\n",
              "    <tr>\n",
              "      <th>0</th>\n",
              "      <td>640</td>\n",
              "      <td>123 109 128 142 103 113 145 179 178 158 177 19...</td>\n",
              "    </tr>\n",
              "    <tr>\n",
              "      <th>1</th>\n",
              "      <td>6081</td>\n",
              "      <td>41 41 41 41 42 42 42 45 39 16 10 10 7 9 9 5 8 ...</td>\n",
              "    </tr>\n",
              "    <tr>\n",
              "      <th>2</th>\n",
              "      <td>11137</td>\n",
              "      <td>248 228 211 197 194 181 195 180 185 189 193 18...</td>\n",
              "    </tr>\n",
              "    <tr>\n",
              "      <th>3</th>\n",
              "      <td>6793</td>\n",
              "      <td>158 181 192 200 193 179 133 167 219 211 164 19...</td>\n",
              "    </tr>\n",
              "    <tr>\n",
              "      <th>4</th>\n",
              "      <td>5932</td>\n",
              "      <td>195 185 166 165 149 98 89 83 65 183 75 65 67 6...</td>\n",
              "    </tr>\n",
              "  </tbody>\n",
              "</table>\n",
              "</div>\n",
              "      <button class=\"colab-df-convert\" onclick=\"convertToInteractive('df-137337bd-ce2f-4f95-8871-75f586dc3a91')\"\n",
              "              title=\"Convert this dataframe to an interactive table.\"\n",
              "              style=\"display:none;\">\n",
              "        \n",
              "  <svg xmlns=\"http://www.w3.org/2000/svg\" height=\"24px\"viewBox=\"0 0 24 24\"\n",
              "       width=\"24px\">\n",
              "    <path d=\"M0 0h24v24H0V0z\" fill=\"none\"/>\n",
              "    <path d=\"M18.56 5.44l.94 2.06.94-2.06 2.06-.94-2.06-.94-.94-2.06-.94 2.06-2.06.94zm-11 1L8.5 8.5l.94-2.06 2.06-.94-2.06-.94L8.5 2.5l-.94 2.06-2.06.94zm10 10l.94 2.06.94-2.06 2.06-.94-2.06-.94-.94-2.06-.94 2.06-2.06.94z\"/><path d=\"M17.41 7.96l-1.37-1.37c-.4-.4-.92-.59-1.43-.59-.52 0-1.04.2-1.43.59L10.3 9.45l-7.72 7.72c-.78.78-.78 2.05 0 2.83L4 21.41c.39.39.9.59 1.41.59.51 0 1.02-.2 1.41-.59l7.78-7.78 2.81-2.81c.8-.78.8-2.07 0-2.86zM5.41 20L4 18.59l7.72-7.72 1.47 1.35L5.41 20z\"/>\n",
              "  </svg>\n",
              "      </button>\n",
              "      \n",
              "  <style>\n",
              "    .colab-df-container {\n",
              "      display:flex;\n",
              "      flex-wrap:wrap;\n",
              "      gap: 12px;\n",
              "    }\n",
              "\n",
              "    .colab-df-convert {\n",
              "      background-color: #E8F0FE;\n",
              "      border: none;\n",
              "      border-radius: 50%;\n",
              "      cursor: pointer;\n",
              "      display: none;\n",
              "      fill: #1967D2;\n",
              "      height: 32px;\n",
              "      padding: 0 0 0 0;\n",
              "      width: 32px;\n",
              "    }\n",
              "\n",
              "    .colab-df-convert:hover {\n",
              "      background-color: #E2EBFA;\n",
              "      box-shadow: 0px 1px 2px rgba(60, 64, 67, 0.3), 0px 1px 3px 1px rgba(60, 64, 67, 0.15);\n",
              "      fill: #174EA6;\n",
              "    }\n",
              "\n",
              "    [theme=dark] .colab-df-convert {\n",
              "      background-color: #3B4455;\n",
              "      fill: #D2E3FC;\n",
              "    }\n",
              "\n",
              "    [theme=dark] .colab-df-convert:hover {\n",
              "      background-color: #434B5C;\n",
              "      box-shadow: 0px 1px 3px 1px rgba(0, 0, 0, 0.15);\n",
              "      filter: drop-shadow(0px 1px 2px rgba(0, 0, 0, 0.3));\n",
              "      fill: #FFFFFF;\n",
              "    }\n",
              "  </style>\n",
              "\n",
              "      <script>\n",
              "        const buttonEl =\n",
              "          document.querySelector('#df-137337bd-ce2f-4f95-8871-75f586dc3a91 button.colab-df-convert');\n",
              "        buttonEl.style.display =\n",
              "          google.colab.kernel.accessAllowed ? 'block' : 'none';\n",
              "\n",
              "        async function convertToInteractive(key) {\n",
              "          const element = document.querySelector('#df-137337bd-ce2f-4f95-8871-75f586dc3a91');\n",
              "          const dataTable =\n",
              "            await google.colab.kernel.invokeFunction('convertToInteractive',\n",
              "                                                     [key], {});\n",
              "          if (!dataTable) return;\n",
              "\n",
              "          const docLinkHtml = 'Like what you see? Visit the ' +\n",
              "            '<a target=\"_blank\" href=https://colab.research.google.com/notebooks/data_table.ipynb>data table notebook</a>'\n",
              "            + ' to learn more about interactive tables.';\n",
              "          element.innerHTML = '';\n",
              "          dataTable['output_type'] = 'display_data';\n",
              "          await google.colab.output.renderOutput(dataTable, element);\n",
              "          const docLink = document.createElement('div');\n",
              "          docLink.innerHTML = docLinkHtml;\n",
              "          element.appendChild(docLink);\n",
              "        }\n",
              "      </script>\n",
              "    </div>\n",
              "  </div>\n",
              "  "
            ],
            "text/plain": [
              "      id                                             pixels\n",
              "0    640  123 109 128 142 103 113 145 179 178 158 177 19...\n",
              "1   6081  41 41 41 41 42 42 42 45 39 16 10 10 7 9 9 5 8 ...\n",
              "2  11137  248 228 211 197 194 181 195 180 185 189 193 18...\n",
              "3   6793  158 181 192 200 193 179 133 167 219 211 164 19...\n",
              "4   5932  195 185 166 165 149 98 89 83 65 183 75 65 67 6..."
            ]
          },
          "execution_count": 6,
          "metadata": {},
          "output_type": "execute_result"
        }
      ],
      "source": [
        "df_test.head()"
      ]
    },
    {
      "cell_type": "code",
      "execution_count": null,
      "metadata": {
        "colab": {
          "base_uri": "https://localhost:8080/"
        },
        "id": "Mkf1CUI8AyJA",
        "outputId": "7a3df933-5c35-4703-e26b-ed38ef1817d9"
      },
      "outputs": [
        {
          "name": "stdout",
          "output_type": "stream",
          "text": [
            "<class 'pandas.core.frame.DataFrame'>\n",
            "RangeIndex: 29000 entries, 0 to 28999\n",
            "Data columns (total 3 columns):\n",
            " #   Column   Non-Null Count  Dtype \n",
            "---  ------   --------------  ----- \n",
            " 0   id       29000 non-null  int64 \n",
            " 1   emotion  29000 non-null  int64 \n",
            " 2   pixels   29000 non-null  object\n",
            "dtypes: int64(2), object(1)\n",
            "memory usage: 679.8+ KB\n",
            "<class 'pandas.core.frame.DataFrame'>\n",
            "RangeIndex: 6887 entries, 0 to 6886\n",
            "Data columns (total 2 columns):\n",
            " #   Column  Non-Null Count  Dtype \n",
            "---  ------  --------------  ----- \n",
            " 0   id      6887 non-null   int64 \n",
            " 1   pixels  6887 non-null   object\n",
            "dtypes: int64(1), object(1)\n",
            "memory usage: 107.7+ KB\n"
          ]
        }
      ],
      "source": [
        "df_train.info()\n",
        "df_test.info()"
      ]
    },
    {
      "cell_type": "markdown",
      "metadata": {
        "id": "wFxBDlIAd1_n"
      },
      "source": [
        "## Pre-processing\n",
        "\n",
        "For pre-processing, we firstly check if there are any missing/null values in the dataset post which we prepared the pixel data from training and testing data frames to be used as an input for the ML models. Secondly, for train, test and validation, we have only split the training dataset into training and validation sets.\n",
        "\n",
        "Additionally, for pre-processing the data, we have split the “pixels” feature and reshaped the input images in the size 48x48 and we have also reshaped this feature based on every model’s requirements so as to better train the models and obtain the desired output. We have also used One-hot Encoding in some of the models as it was necessary for the model to improve its performance.\n",
        "\n",
        ""
      ]
    },
    {
      "cell_type": "code",
      "execution_count": null,
      "metadata": {
        "id": "sXR7uGprDHBt"
      },
      "outputs": [],
      "source": [
        "# Define image dimensions\n",
        "img_rows, img_cols = 48, 48\n",
        "input_shape = (img_rows, img_cols, 1)"
      ]
    },
    {
      "cell_type": "code",
      "execution_count": null,
      "metadata": {
        "id": "hEfpIuNxIxID"
      },
      "outputs": [],
      "source": [
        "X_train = df_train['pixels'].str.split(' ').apply(pd.Series).astype(float).values\n",
        "y_train = df_train['emotion']\n",
        "X_test = df_test['pixels'].str.split(' ').apply(pd.Series).astype(float).values"
      ]
    },
    {
      "cell_type": "code",
      "execution_count": null,
      "metadata": {
        "id": "PPx2NGEYm9Df"
      },
      "outputs": [],
      "source": [
        "#Spliting train and validation\n",
        "X_train, X_val, y_train, y_val = train_test_split(X_train, y_train, test_size=0.2, random_state=42)"
      ]
    },
    {
      "cell_type": "code",
      "execution_count": null,
      "metadata": {
        "id": "_kr3XTIVcYvg"
      },
      "outputs": [],
      "source": [
        "class_names = ['Angry', 'Disgust', 'Fear', 'Happy', 'Sad', 'Surprise', 'Neutral']\n",
        "#class_map = {class_name: i for i, class_name in enumerate(class_names)}\n",
        "#unique_labels = np.unique(df_train['emotion'])\n",
        "#class_map = {str(label): index for index, label in enumerate(unique_labels)}\n",
        "\n",
        "class_map = {class_name: i for i, class_name in enumerate(class_names)}\n",
        "unique_labels = np.unique(df_train['emotion'])\n",
        "class_map = {index: class_names[int(label)] for index, label in enumerate(unique_labels)}"
      ]
    },
    {
      "cell_type": "code",
      "execution_count": null,
      "metadata": {
        "colab": {
          "base_uri": "https://localhost:8080/"
        },
        "id": "AcQS1rdAcH8P",
        "outputId": "4cb23078-68d0-47cf-fa96-790664078966"
      },
      "outputs": [
        {
          "name": "stdout",
          "output_type": "stream",
          "text": [
            "0: Angry\n",
            "1: Disgust\n",
            "2: Fear\n",
            "3: Happy\n",
            "4: Sad\n",
            "5: Surprise\n",
            "6: Neutral\n"
          ]
        }
      ],
      "source": [
        "for label in set(y_train):\n",
        " print(f\"{label}: {class_names[label]}\")"
      ]
    },
    {
      "cell_type": "code",
      "execution_count": null,
      "metadata": {
        "colab": {
          "base_uri": "https://localhost:8080/"
        },
        "id": "2E9edkXvnm1d",
        "outputId": "980c8c8d-c342-4a89-e189-86be49070e6a"
      },
      "outputs": [
        {
          "data": {
            "text/plain": [
              "(23200, 2304)"
            ]
          },
          "execution_count": 13,
          "metadata": {},
          "output_type": "execute_result"
        }
      ],
      "source": [
        "X_train.shape"
      ]
    },
    {
      "cell_type": "code",
      "execution_count": null,
      "metadata": {
        "id": "keKoXmV0DPrA"
      },
      "outputs": [],
      "source": [
        "# Reshape the train and test\n",
        "X_train = X_train.reshape(-1, img_rows, img_cols, 1)\n",
        "X_test = X_test.reshape(-1, img_rows, img_cols, 1)\n",
        "X_val = X_val.reshape(-1, img_rows, img_cols, 1)"
      ]
    },
    {
      "cell_type": "code",
      "execution_count": null,
      "metadata": {
        "colab": {
          "base_uri": "https://localhost:8080/"
        },
        "id": "Icfayev5nz_0",
        "outputId": "ba66580b-98ca-45d3-9a94-67155b5a61b1"
      },
      "outputs": [
        {
          "data": {
            "text/plain": [
              "(23200, 48, 48, 1)"
            ]
          },
          "execution_count": 15,
          "metadata": {},
          "output_type": "execute_result"
        }
      ],
      "source": [
        "X_train.shape"
      ]
    },
    {
      "cell_type": "code",
      "execution_count": null,
      "metadata": {
        "colab": {
          "base_uri": "https://localhost:8080/"
        },
        "id": "WwB3iryiFIU8",
        "outputId": "6af21b50-6a50-4995-bc42-ad73b3cf6496"
      },
      "outputs": [
        {
          "data": {
            "text/plain": [
              "(6887, 48, 48, 1)"
            ]
          },
          "execution_count": 16,
          "metadata": {},
          "output_type": "execute_result"
        }
      ],
      "source": [
        "X_test.shape"
      ]
    },
    {
      "cell_type": "markdown",
      "metadata": {
        "id": "-UxtRercePSh"
      },
      "source": [
        "## Data augmentation\n",
        "\n",
        "Moving on, we have implemented data augmentation for our preprocessing which we executed by setting up an Image Data Generator object with various data augmentation parameters which we used to generate augmented images for model training."
      ]
    },
    {
      "cell_type": "code",
      "execution_count": null,
      "metadata": {
        "id": "_jLywkThFx5J"
      },
      "outputs": [],
      "source": [
        "from keras.preprocessing.image import ImageDataGenerator\n",
        "\n",
        "datagen = ImageDataGenerator(rotation_range=10,\n",
        "                             zoom_range=0.1,\n",
        "                             width_shift_range=0.1,\n",
        "                             height_shift_range=0.1,\n",
        "                             horizontal_flip=True)\n",
        "datagen.fit(X_train)"
      ]
    },
    {
      "cell_type": "code",
      "execution_count": null,
      "metadata": {
        "colab": {
          "base_uri": "https://localhost:8080/"
        },
        "id": "N-xzs5GtLGV3",
        "outputId": "899d9a51-2fde-41e8-9612-b20a090abb3d"
      },
      "outputs": [
        {
          "name": "stdout",
          "output_type": "stream",
          "text": [
            "(23200, 48, 48, 1)\n",
            "(23200,)\n"
          ]
        }
      ],
      "source": [
        "print(X_train.shape)\n",
        "print(y_train.shape)"
      ]
    },
    {
      "cell_type": "markdown",
      "metadata": {
        "id": "sp6KN4Ciee0u"
      },
      "source": [
        "# Models\n",
        "\n",
        "## Standard ML Baseline:  Random Forest Classifier\n",
        "\n",
        "\n",
        "\n",
        "Simple Machine Learning Baseline Model: We have used Random Forest Classifier for this task. Random Forest Classifier is a popular machine learning algorithm that is well-suited for classification tasks. We have chosen it mainly due to its ability to handle complex relationships, robustness to noise and outliers, feature importance estimation, and ensemble learning capabilities."
      ]
    },
    {
      "cell_type": "code",
      "execution_count": null,
      "metadata": {
        "colab": {
          "base_uri": "https://localhost:8080/",
          "height": 75
        },
        "id": "QDAcChD0Q47G",
        "outputId": "191f2fa2-c2ff-40b9-d349-f77fe340b987"
      },
      "outputs": [
        {
          "data": {
            "text/html": [
              "<style>#sk-container-id-1 {color: black;background-color: white;}#sk-container-id-1 pre{padding: 0;}#sk-container-id-1 div.sk-toggleable {background-color: white;}#sk-container-id-1 label.sk-toggleable__label {cursor: pointer;display: block;width: 100%;margin-bottom: 0;padding: 0.3em;box-sizing: border-box;text-align: center;}#sk-container-id-1 label.sk-toggleable__label-arrow:before {content: \"▸\";float: left;margin-right: 0.25em;color: #696969;}#sk-container-id-1 label.sk-toggleable__label-arrow:hover:before {color: black;}#sk-container-id-1 div.sk-estimator:hover label.sk-toggleable__label-arrow:before {color: black;}#sk-container-id-1 div.sk-toggleable__content {max-height: 0;max-width: 0;overflow: hidden;text-align: left;background-color: #f0f8ff;}#sk-container-id-1 div.sk-toggleable__content pre {margin: 0.2em;color: black;border-radius: 0.25em;background-color: #f0f8ff;}#sk-container-id-1 input.sk-toggleable__control:checked~div.sk-toggleable__content {max-height: 200px;max-width: 100%;overflow: auto;}#sk-container-id-1 input.sk-toggleable__control:checked~label.sk-toggleable__label-arrow:before {content: \"▾\";}#sk-container-id-1 div.sk-estimator input.sk-toggleable__control:checked~label.sk-toggleable__label {background-color: #d4ebff;}#sk-container-id-1 div.sk-label input.sk-toggleable__control:checked~label.sk-toggleable__label {background-color: #d4ebff;}#sk-container-id-1 input.sk-hidden--visually {border: 0;clip: rect(1px 1px 1px 1px);clip: rect(1px, 1px, 1px, 1px);height: 1px;margin: -1px;overflow: hidden;padding: 0;position: absolute;width: 1px;}#sk-container-id-1 div.sk-estimator {font-family: monospace;background-color: #f0f8ff;border: 1px dotted black;border-radius: 0.25em;box-sizing: border-box;margin-bottom: 0.5em;}#sk-container-id-1 div.sk-estimator:hover {background-color: #d4ebff;}#sk-container-id-1 div.sk-parallel-item::after {content: \"\";width: 100%;border-bottom: 1px solid gray;flex-grow: 1;}#sk-container-id-1 div.sk-label:hover label.sk-toggleable__label {background-color: #d4ebff;}#sk-container-id-1 div.sk-serial::before {content: \"\";position: absolute;border-left: 1px solid gray;box-sizing: border-box;top: 0;bottom: 0;left: 50%;z-index: 0;}#sk-container-id-1 div.sk-serial {display: flex;flex-direction: column;align-items: center;background-color: white;padding-right: 0.2em;padding-left: 0.2em;position: relative;}#sk-container-id-1 div.sk-item {position: relative;z-index: 1;}#sk-container-id-1 div.sk-parallel {display: flex;align-items: stretch;justify-content: center;background-color: white;position: relative;}#sk-container-id-1 div.sk-item::before, #sk-container-id-1 div.sk-parallel-item::before {content: \"\";position: absolute;border-left: 1px solid gray;box-sizing: border-box;top: 0;bottom: 0;left: 50%;z-index: -1;}#sk-container-id-1 div.sk-parallel-item {display: flex;flex-direction: column;z-index: 1;position: relative;background-color: white;}#sk-container-id-1 div.sk-parallel-item:first-child::after {align-self: flex-end;width: 50%;}#sk-container-id-1 div.sk-parallel-item:last-child::after {align-self: flex-start;width: 50%;}#sk-container-id-1 div.sk-parallel-item:only-child::after {width: 0;}#sk-container-id-1 div.sk-dashed-wrapped {border: 1px dashed gray;margin: 0 0.4em 0.5em 0.4em;box-sizing: border-box;padding-bottom: 0.4em;background-color: white;}#sk-container-id-1 div.sk-label label {font-family: monospace;font-weight: bold;display: inline-block;line-height: 1.2em;}#sk-container-id-1 div.sk-label-container {text-align: center;}#sk-container-id-1 div.sk-container {/* jupyter's `normalize.less` sets `[hidden] { display: none; }` but bootstrap.min.css set `[hidden] { display: none !important; }` so we also need the `!important` here to be able to override the default hidden behavior on the sphinx rendered scikit-learn.org. See: https://github.com/scikit-learn/scikit-learn/issues/21755 */display: inline-block !important;position: relative;}#sk-container-id-1 div.sk-text-repr-fallback {display: none;}</style><div id=\"sk-container-id-1\" class=\"sk-top-container\"><div class=\"sk-text-repr-fallback\"><pre>RandomForestClassifier(random_state=42)</pre><b>In a Jupyter environment, please rerun this cell to show the HTML representation or trust the notebook. <br />On GitHub, the HTML representation is unable to render, please try loading this page with nbviewer.org.</b></div><div class=\"sk-container\" hidden><div class=\"sk-item\"><div class=\"sk-estimator sk-toggleable\"><input class=\"sk-toggleable__control sk-hidden--visually\" id=\"sk-estimator-id-1\" type=\"checkbox\" checked><label for=\"sk-estimator-id-1\" class=\"sk-toggleable__label sk-toggleable__label-arrow\">RandomForestClassifier</label><div class=\"sk-toggleable__content\"><pre>RandomForestClassifier(random_state=42)</pre></div></div></div></div></div>"
            ],
            "text/plain": [
              "RandomForestClassifier(random_state=42)"
            ]
          },
          "execution_count": 19,
          "metadata": {},
          "output_type": "execute_result"
        }
      ],
      "source": [
        "from sklearn.ensemble import RandomForestClassifier\n",
        "from sklearn.metrics import accuracy_score\n",
        "\n",
        "rfc = RandomForestClassifier(n_estimators=100,random_state=42)\n",
        "rfc.fit(X_train.reshape(X_train.shape[0], -1), y_train)\n"
      ]
    },
    {
      "cell_type": "code",
      "execution_count": null,
      "metadata": {
        "colab": {
          "base_uri": "https://localhost:8080/"
        },
        "id": "XdJ8I3i0lVhy",
        "outputId": "7c6a20ed-db60-45ec-f684-b8564d73cfb9"
      },
      "outputs": [
        {
          "name": "stdout",
          "output_type": "stream",
          "text": [
            "<class 'pandas.core.frame.DataFrame'>\n",
            "RangeIndex: 6887 entries, 0 to 6886\n",
            "Data columns (total 2 columns):\n",
            " #   Column  Non-Null Count  Dtype \n",
            "---  ------  --------------  ----- \n",
            " 0   id      6887 non-null   int64 \n",
            " 1   pixels  6887 non-null   object\n",
            "dtypes: int64(1), object(1)\n",
            "memory usage: 107.7+ KB\n"
          ]
        }
      ],
      "source": [
        "df_test.info()"
      ]
    },
    {
      "cell_type": "code",
      "execution_count": null,
      "metadata": {
        "colab": {
          "base_uri": "https://localhost:8080/"
        },
        "id": "_wkU9In-rO4T",
        "outputId": "f1d0350e-7ff1-4f16-8afb-b8f91ba7137e"
      },
      "outputs": [
        {
          "name": "stdout",
          "output_type": "stream",
          "text": [
            "Random Forest Test accuracy: [3 3 5 ... 3 4 0]\n"
          ]
        }
      ],
      "source": [
        "# Prediction\n",
        "test_preds = rfc.predict(X_test.reshape(X_test.shape[0], -1))\n",
        "print(\"Random Forest Test accuracy:\", test_preds)\n",
        "\n",
        "final = pd.DataFrame(columns=['id', 'emotion'])\n",
        "final['id'] = df_test['id']\n",
        "final['emotion'] = test_preds\n",
        "final.to_csv('submission.csv', index=False)"
      ]
    },
    {
      "cell_type": "code",
      "execution_count": null,
      "metadata": {
        "colab": {
          "base_uri": "https://localhost:8080/"
        },
        "id": "xJA1TPqsOmAc",
        "outputId": "d1b75a55-7d47-4408-e62b-4c6be29b7480"
      },
      "outputs": [
        {
          "data": {
            "text/plain": [
              "5800"
            ]
          },
          "execution_count": 22,
          "metadata": {},
          "output_type": "execute_result"
        }
      ],
      "source": [
        "val_preds = rfc.predict(X_val.reshape(X_val.shape[0], -1))\n",
        "# y_val\n",
        "len(val_preds)"
      ]
    },
    {
      "cell_type": "code",
      "execution_count": null,
      "metadata": {
        "colab": {
          "base_uri": "https://localhost:8080/"
        },
        "id": "yuDkm-_MPEZR",
        "outputId": "eb3a5062-d6c8-4e9a-b893-ea80e2b51b2d"
      },
      "outputs": [
        {
          "data": {
            "text/plain": [
              "0.45120689655172413"
            ]
          },
          "execution_count": 23,
          "metadata": {},
          "output_type": "execute_result"
        }
      ],
      "source": [
        "val_acc = accuracy_score(y_val, val_preds)\n",
        "val_acc"
      ]
    },
    {
      "cell_type": "code",
      "execution_count": null,
      "metadata": {
        "colab": {
          "base_uri": "https://localhost:8080/"
        },
        "id": "bk03FSnDPuQo",
        "outputId": "a940bcdd-42fb-4322-9055-5ad897609160"
      },
      "outputs": [
        {
          "name": "stdout",
          "output_type": "stream",
          "text": [
            "MSE: 4.255862068965517\n",
            "Standard Deviation: 1.4901676860210582\n"
          ]
        }
      ],
      "source": [
        "mse = tf.keras.losses.MeanSquaredError()\n",
        "mse = mean_squared_error(y_val, val_preds)\n",
        "std_dev = np.std(val_preds)\n",
        "print(\"MSE:\", mse)\n",
        "print(\"Standard Deviation:\", std_dev)"
      ]
    },
    {
      "cell_type": "code",
      "execution_count": null,
      "metadata": {
        "id": "yJCUxZ0pv4bE"
      },
      "outputs": [],
      "source": [
        "# Define the input shape\n",
        "input_shape = (48, 48, 1)\n",
        "\n",
        "# Define the number of output classes\n",
        "num_classes = 7"
      ]
    },
    {
      "cell_type": "markdown",
      "metadata": {
        "id": "mU49rSDBe4UX"
      },
      "source": [
        "## Deep NN model and CNN\n",
        "\n",
        "We have used Convolutional Neural Network as our Deep Neural Network Model. It is a type of neural network commonly used for image and video classification tasks. We chose it mainly due to its ability to handle complex relationships between input features and output labels, and their high accuracy in a wide range of image and speech recognition tasks."
      ]
    },
    {
      "cell_type": "code",
      "execution_count": null,
      "metadata": {
        "id": "PGGmFK3Ev99M"
      },
      "outputs": [],
      "source": [
        "#DNN\n",
        "\n",
        "# Define the different configurations to try\n",
        "configs = [ {\"units\": 64, \"dropout_rate\": 0.2},\n",
        "           {\"units\": 128, \"dropout_rate\": 0.3},\n",
        "           {\"units\": 256, \"dropout_rate\": 0.4},\n",
        "           {\"units\": 64, \"dropout_rate\": 0.2, \"hidden_layers\": 2},\n",
        "           {\"units\": 128, \"dropout_rate\": 0.3, \"hidden_layers\": 2}]\n"
      ]
    },
    {
      "cell_type": "code",
      "execution_count": null,
      "metadata": {
        "id": "-WqBXXU-ypLa"
      },
      "outputs": [],
      "source": [
        "from tensorflow.keras import models, layers\n",
        "from tensorflow.keras.utils import to_categorical\n",
        "\n",
        "\n",
        "# Load and preprocess the data\n",
        "# Replace 'df_train' and 'df_test' with your actual data\n",
        "X_train = df_train['pixels'].apply(lambda x: np.fromstring(x, dtype=int, sep=' '))\n",
        "X_train = np.vstack(X_train.values)\n",
        "X_train = X_train.reshape(-1, 48, 48, 1) / 255.0\n",
        "y_train = to_categorical(df_train['emotion'], num_classes=num_classes)\n",
        "\n",
        "X_test = df_test['pixels'].apply(lambda x: np.fromstring(x, dtype=int, sep=' '))\n",
        "X_test = np.vstack(X_test.values)\n",
        "X_test = X_test.reshape(-1, 48, 48, 1) / 255.0"
      ]
    },
    {
      "cell_type": "code",
      "execution_count": null,
      "metadata": {
        "id": "2trr-59DwAqE"
      },
      "outputs": [],
      "source": [
        "# Loop through each configuration and train a model\n",
        "for config in configs:\n",
        "    model = models.Sequential()\n",
        "    model.add(layers.Conv2D(32, kernel_size=(3, 3), activation='relu', input_shape=input_shape))\n",
        "    model.add(layers.MaxPooling2D(pool_size=(2, 2)))\n",
        "    model.add(layers.Flatten())\n",
        "    for i in range(config.get(\"hidden_layers\", 1)):\n",
        "        model.add(layers.Dense(config[\"units\"], activation='relu'))\n",
        "        model.add(layers.Dropout(config[\"dropout_rate\"]))\n",
        "    model.add(layers.Dense(num_classes, activation='softmax'))\n",
        "    model.compile(optimizer='adam', loss='categorical_crossentropy', metrics=['accuracy'])"
      ]
    },
    {
      "cell_type": "code",
      "execution_count": null,
      "metadata": {
        "colab": {
          "base_uri": "https://localhost:8080/"
        },
        "id": "6V5f484py-rS",
        "outputId": "dc401c6d-017c-46b3-b817-4c989f2ea9b6"
      },
      "outputs": [
        {
          "name": "stdout",
          "output_type": "stream",
          "text": [
            "Model: \"sequential_4\"\n",
            "_________________________________________________________________\n",
            " Layer (type)                Output Shape              Param #   \n",
            "=================================================================\n",
            " conv2d_4 (Conv2D)           (None, 46, 46, 32)        320       \n",
            "                                                                 \n",
            " max_pooling2d_4 (MaxPooling  (None, 23, 23, 32)       0         \n",
            " 2D)                                                             \n",
            "                                                                 \n",
            " flatten_4 (Flatten)         (None, 16928)             0         \n",
            "                                                                 \n",
            " dense_9 (Dense)             (None, 128)               2166912   \n",
            "                                                                 \n",
            " dropout_5 (Dropout)         (None, 128)               0         \n",
            "                                                                 \n",
            " dense_10 (Dense)            (None, 128)               16512     \n",
            "                                                                 \n",
            " dropout_6 (Dropout)         (None, 128)               0         \n",
            "                                                                 \n",
            " dense_11 (Dense)            (None, 7)                 903       \n",
            "                                                                 \n",
            "=================================================================\n",
            "Total params: 2,184,647\n",
            "Trainable params: 2,184,647\n",
            "Non-trainable params: 0\n",
            "_________________________________________________________________\n",
            "None\n"
          ]
        }
      ],
      "source": [
        "# Print the model summary\n",
        "print(model.summary())\n",
        ""
      ]
    },
    {
      "cell_type": "code",
      "execution_count": null,
      "metadata": {
        "colab": {
          "base_uri": "https://localhost:8080/"
        },
        "id": "sAMX4uvJxQrD",
        "outputId": "01b36527-dc8b-457a-e4ab-367c4b60b10d"
      },
      "outputs": [
        {
          "name": "stdout",
          "output_type": "stream",
          "text": [
            "Epoch 1/2\n",
            "725/725 [==============================] - 13s 5ms/step - loss: 1.7565 - accuracy: 0.2800 - val_loss: 1.5952 - val_accuracy: 0.3895\n",
            "Epoch 2/2\n",
            "725/725 [==============================] - 4s 6ms/step - loss: 1.5983 - accuracy: 0.3679 - val_loss: 1.4991 - val_accuracy: 0.4322\n"
          ]
        }
      ],
      "source": [
        "# Train the model\n",
        "history = model.fit(X_train, y_train, batch_size=32, epochs=2, validation_split=0.2)"
      ]
    },
    {
      "cell_type": "code",
      "execution_count": null,
      "metadata": {
        "colab": {
          "base_uri": "https://localhost:8080/"
        },
        "id": "E9lFjPkZzeBx",
        "outputId": "fe033f5d-fbfc-4382-d64d-61c4d1eb223b"
      },
      "outputs": [
        {
          "name": "stdout",
          "output_type": "stream",
          "text": [
            "216/216 [==============================] - 1s 2ms/step\n"
          ]
        }
      ],
      "source": [
        "# Evaluate on validation set\n",
        "test_preds = model.predict(X_test)"
      ]
    },
    {
      "cell_type": "code",
      "execution_count": null,
      "metadata": {
        "id": "M1zFvYLaz3o3"
      },
      "outputs": [],
      "source": [
        "test_preds_classes = np.argmax(test_preds, axis=1)\n",
        "final = pd.DataFrame(columns=['id', 'emotion'])\n",
        "final['id'] = df_test['id']\n",
        "final['emotion'] = test_preds_classes\n",
        "final.to_csv('DNN submission.csv', index=False)"
      ]
    },
    {
      "cell_type": "code",
      "execution_count": null,
      "metadata": {
        "colab": {
          "base_uri": "https://localhost:8080/"
        },
        "id": "9gBjfOKoDCm5",
        "outputId": "d17d0f2a-89e4-46cd-83cf-3089365f1376"
      },
      "outputs": [
        {
          "name": "stdout",
          "output_type": "stream",
          "text": [
            "(5800, 48, 48, 1)\n"
          ]
        }
      ],
      "source": [
        "print(X_val.shape)"
      ]
    },
    {
      "cell_type": "code",
      "execution_count": null,
      "metadata": {
        "colab": {
          "base_uri": "https://localhost:8080/"
        },
        "id": "z050xjQVFtFe",
        "outputId": "5f1464c5-2adc-4ee4-d558-587ebe95fdcd"
      },
      "outputs": [
        {
          "name": "stdout",
          "output_type": "stream",
          "text": [
            "(29000, 48, 48, 1)\n"
          ]
        }
      ],
      "source": [
        "print(X_train.shape)"
      ]
    },
    {
      "cell_type": "code",
      "execution_count": null,
      "metadata": {
        "colab": {
          "base_uri": "https://localhost:8080/"
        },
        "id": "Hym_g36wFv--",
        "outputId": "6ed0bf5e-fd02-4d1e-c14b-46cd530d3c8e"
      },
      "outputs": [
        {
          "name": "stdout",
          "output_type": "stream",
          "text": [
            "(6887, 48, 48, 1)\n"
          ]
        }
      ],
      "source": [
        "print(X_test.shape)"
      ]
    },
    {
      "cell_type": "code",
      "execution_count": null,
      "metadata": {
        "colab": {
          "base_uri": "https://localhost:8080/"
        },
        "id": "JTQyw04rDEGJ",
        "outputId": "5adb60fc-46a4-43cd-cdda-259007232519"
      },
      "outputs": [
        {
          "name": "stdout",
          "output_type": "stream",
          "text": [
            "(5800,)\n"
          ]
        }
      ],
      "source": [
        "print(y_val.shape)"
      ]
    },
    {
      "cell_type": "code",
      "execution_count": null,
      "metadata": {
        "colab": {
          "base_uri": "https://localhost:8080/"
        },
        "id": "LU2Qhvs8eElO",
        "outputId": "99cc29c7-6bb4-4823-d1bd-093a3d04d1be"
      },
      "outputs": [
        {
          "name": "stdout",
          "output_type": "stream",
          "text": [
            "182/182 [==============================] - 0s 2ms/step\n"
          ]
        },
        {
          "data": {
            "text/plain": [
              "5800"
            ]
          },
          "execution_count": 37,
          "metadata": {},
          "output_type": "execute_result"
        }
      ],
      "source": [
        "DNN_val_preds = model.predict(X_val)\n",
        "# y_val\n",
        "len(DNN_val_preds)"
      ]
    },
    {
      "cell_type": "code",
      "execution_count": null,
      "metadata": {
        "id": "RD5kSlLKHJw8"
      },
      "outputs": [],
      "source": [
        "# Convert y_val to one-hot encoded format\n",
        "y_val_categorical = to_categorical(y_val)"
      ]
    },
    {
      "cell_type": "code",
      "execution_count": null,
      "metadata": {
        "colab": {
          "base_uri": "https://localhost:8080/"
        },
        "id": "ySg7Py8_LnXo",
        "outputId": "33a38b1d-48cc-4d8e-9f16-5a7d3af1e753"
      },
      "outputs": [
        {
          "data": {
            "text/plain": [
              "0.31189655172413794"
            ]
          },
          "execution_count": 39,
          "metadata": {},
          "output_type": "execute_result"
        }
      ],
      "source": [
        "from sklearn.metrics import accuracy_score\n",
        "\n",
        "val_acc = accuracy_score(y_val_categorical.argmax(axis=1), DNN_val_preds.argmax(axis=1))\n",
        "val_acc"
      ]
    },
    {
      "cell_type": "code",
      "execution_count": null,
      "metadata": {
        "colab": {
          "base_uri": "https://localhost:8080/"
        },
        "id": "pev71vlmeaIV",
        "outputId": "50c95ebe-b15e-4043-9331-37b2f73822aa"
      },
      "outputs": [
        {
          "name": "stdout",
          "output_type": "stream",
          "text": [
            "DNN_MSE: 0.18900993\n",
            "DNN Std: 0.3393619\n"
          ]
        }
      ],
      "source": [
        "from sklearn.metrics import mean_squared_error\n",
        "\n",
        "mse = mean_squared_error(y_val_categorical, DNN_val_preds)\n",
        "std_dev = np.std(DNN_val_preds)\n",
        "print(\"DNN_MSE:\", mse)\n",
        "print(\"DNN Std:\", std_dev)"
      ]
    },
    {
      "cell_type": "code",
      "execution_count": null,
      "metadata": {
        "colab": {
          "base_uri": "https://localhost:8080/",
          "height": 392
        },
        "id": "3be3hrphi9dS",
        "outputId": "6765cb27-5ede-4ddf-9a85-0380e5f60785"
      },
      "outputs": [
        {
          "data": {
            "image/png": "[encoded data removed]",
            "text/plain": [
              "<Figure size 800x400 with 2 Axes>"
            ]
          },
          "metadata": {},
          "output_type": "display_data"
        }
      ],
      "source": [
        "plt.style.use('ggplot')\n",
        "def plot_history(history):\n",
        " acc = history.history['accuracy']\n",
        " val_acc = history.history['val_accuracy']\n",
        " loss = history.history['loss']\n",
        " val_loss = history.history['val_loss']\n",
        " x = range(1, len(acc) + 1)\n",
        " plt.figure(figsize=(8, 4))\n",
        " plt.subplot(1, 2, 1)\n",
        " plt.plot(x, acc, 'b', label='Training acc')\n",
        " plt.plot(x, val_acc, 'r', label='Validation acc')\n",
        " plt.title('Training and validation accuracy')\n",
        " plt.legend()\n",
        " plt.subplot(1, 2, 2)\n",
        " plt.plot(x, loss, 'b', label='Training loss')\n",
        " plt.plot(x, val_loss, 'r', label='Validation loss')\n",
        " plt.title('Training and validation loss')\n",
        " plt.legend()\n",
        "plot_history(history)"
      ]
    },
    {
      "cell_type": "markdown",
      "metadata": {
        "id": "KJgudWPnhgGz"
      },
      "source": [
        "**Parameter Used**\n",
        "\n",
        "Deep Neural Network (DNN): We have used 5 configuartion and different hyperparameter for the DNN model which are “filters”, “kernel_size”, “pool_size”, “dropout_rate”, and “dense_units”. We used these to train and evaluate DNN model to find the best performing model for this task."
      ]
    },
    {
      "cell_type": "markdown",
      "metadata": {
        "id": "TYqlcJypnx9H"
      },
      "source": [
        "# CNN"
      ]
    },
    {
      "cell_type": "code",
      "execution_count": null,
      "metadata": {
        "id": "GJNp7vTC8f3c"
      },
      "outputs": [],
      "source": [
        "# Reshape the label arrays\n",
        "y_train = np.argmax(y_train, axis=1)\n",
        "#y_val = np.argmax(y_val, axis=1)"
      ]
    },
    {
      "cell_type": "code",
      "execution_count": null,
      "metadata": {
        "id": "WGgPqzXxNLqL"
      },
      "outputs": [],
      "source": [
        "from keras.layers import Dense, Dropout, Flatten, Conv2D, MaxPooling2D, BatchNormalization\n",
        "from keras.models import Sequential\n",
        "\n",
        "# Define the model\n",
        "model = Sequential([\n",
        "    # First convolutional layer\n",
        "    Conv2D(64, (3, 3), padding='same', activation='relu', input_shape=(48, 48, 1)),\n",
        "    BatchNormalization(),\n",
        "    MaxPooling2D(pool_size=(2, 2)),\n",
        "    Dropout(0.25),\n",
        "\n",
        "    # Second convolutional layer\n",
        "    Conv2D(128, (5, 5), padding='same', activation='relu'),\n",
        "    BatchNormalization(),\n",
        "    MaxPooling2D(pool_size=(2, 2)),\n",
        "    Dropout(0.25),\n",
        "\n",
        "    # Third convolutional layer\n",
        "    Conv2D(512, (3, 3), padding='same', activation='relu'),\n",
        "    BatchNormalization(),\n",
        "    MaxPooling2D(pool_size=(2, 2)),\n",
        "    Dropout(0.25),\n",
        "\n",
        "    # Flatten the output from convolutional layers\n",
        "    Flatten(),\n",
        "\n",
        "    # Dense layers with dropout\n",
        "    Dense(256, activation='relu'),\n",
        "    Dropout(0.5),\n",
        "    Dense(128, activation='relu'),\n",
        "    Dropout(0.5),\n",
        "\n",
        "    # Output layer with 7 classes for the 7 emotions\n",
        "    Dense(7, activation='softmax')\n",
        "])\n",
        "\n",
        "# Compile the model\n",
        "model.compile(\n",
        "    optimizer='adam',\n",
        "    loss=tf.keras.losses.SparseCategoricalCrossentropy(from_logits=False),\n",
        "    metrics=['accuracy']\n",
        ")"
      ]
    },
    {
      "cell_type": "code",
      "execution_count": null,
      "metadata": {
        "colab": {
          "base_uri": "https://localhost:8080/"
        },
        "id": "SLM9O9K7NUaq",
        "outputId": "afa788c4-046f-4f81-ed99-1abbfdb82f82"
      },
      "outputs": [
        {
          "name": "stdout",
          "output_type": "stream",
          "text": [
            "725/725 [==============================] - 15s 15ms/step - loss: 2.2566 - accuracy: 0.2384 - val_loss: 1.8156 - val_accuracy: 0.2557\n"
          ]
        }
      ],
      "source": [
        "# Train the model\n",
        "history = model.fit(X_train, y_train, batch_size=32, epochs=1, validation_split=0.2)"
      ]
    },
    {
      "cell_type": "code",
      "execution_count": null,
      "metadata": {
        "colab": {
          "base_uri": "https://localhost:8080/"
        },
        "id": "1aTFbHxWHUbx",
        "outputId": "f0a3872d-b0bf-4010-a560-98076cdb2faa"
      },
      "outputs": [
        {
          "name": "stdout",
          "output_type": "stream",
          "text": [
            "216/216 [==============================] - 1s 4ms/step\n"
          ]
        }
      ],
      "source": [
        "# Evaluate on validation set\n",
        "cnn_test_preds = model.predict(X_test)"
      ]
    },
    {
      "cell_type": "code",
      "execution_count": null,
      "metadata": {
        "id": "1mJk1ZhhOWCx"
      },
      "outputs": [],
      "source": [
        "test_preds_classes = np.argmax(cnn_test_preds, axis=1)\n",
        "final = pd.DataFrame(columns=['id', 'emotion'])\n",
        "final['id'] = df_test['id']\n",
        "final['emotion'] = test_preds_classes\n",
        "final.to_csv('CNN submission.csv', index=False)"
      ]
    },
    {
      "cell_type": "code",
      "execution_count": null,
      "metadata": {
        "colab": {
          "base_uri": "https://localhost:8080/"
        },
        "id": "ff5QLHE-ff2k",
        "outputId": "dd299e2e-fe94-4869-916d-657eee056876"
      },
      "outputs": [
        {
          "name": "stdout",
          "output_type": "stream",
          "text": [
            "182/182 [==============================] - 1s 3ms/step\n"
          ]
        },
        {
          "data": {
            "text/plain": [
              "5800"
            ]
          },
          "execution_count": 47,
          "metadata": {},
          "output_type": "execute_result"
        }
      ],
      "source": [
        "CNN_val_preds = model.predict(X_val)\n",
        "# y_val\n",
        "len(CNN_val_preds)"
      ]
    },
    {
      "cell_type": "code",
      "execution_count": null,
      "metadata": {
        "colab": {
          "base_uri": "https://localhost:8080/"
        },
        "id": "Bx3UCSllNEZ-",
        "outputId": "918a1609-5f5e-493d-ab37-40b976fc6580"
      },
      "outputs": [
        {
          "data": {
            "text/plain": [
              "0.25051724137931036"
            ]
          },
          "execution_count": 48,
          "metadata": {},
          "output_type": "execute_result"
        }
      ],
      "source": [
        "val_acc = accuracy_score(y_val_categorical.argmax(axis=1), CNN_val_preds.argmax(axis=1))\n",
        "val_acc"
      ]
    },
    {
      "cell_type": "code",
      "execution_count": null,
      "metadata": {
        "colab": {
          "base_uri": "https://localhost:8080/"
        },
        "id": "sb5QyHB7fpoU",
        "outputId": "31f060ed-8ef5-4a90-eb66-c6532a0a4f02"
      },
      "outputs": [
        {
          "name": "stdout",
          "output_type": "stream",
          "text": [
            "MSE: 0.11836726\n",
            "Standard Deviation: 0.061687652\n"
          ]
        }
      ],
      "source": [
        "mse = mean_squared_error(y_val_categorical, CNN_val_preds)\n",
        "std_dev = np.std(CNN_val_preds)\n",
        "print(\"MSE:\", mse)\n",
        "print(\"Standard Deviation:\", std_dev)"
      ]
    },
    {
      "cell_type": "code",
      "execution_count": null,
      "metadata": {
        "colab": {
          "base_uri": "https://localhost:8080/",
          "height": 392
        },
        "id": "G8_rB4hii4dK",
        "outputId": "2eafe5a3-2f3e-489b-b813-f5d452686122"
      },
      "outputs": [
        {
          "data": {
            "image/png": "[encoded data removed]",
            "text/plain": [
              "<Figure size 800x400 with 2 Axes>"
            ]
          },
          "metadata": {},
          "output_type": "display_data"
        }
      ],
      "source": [
        "plt.style.use('ggplot')\n",
        "def plot_history(history):\n",
        " acc = history.history['accuracy']\n",
        " val_acc = history.history['val_accuracy']\n",
        " loss = history.history['loss']\n",
        " val_loss = history.history['val_loss']\n",
        " x = range(1, len(acc) + 1)\n",
        " plt.figure(figsize=(8, 4))\n",
        " plt.subplot(1, 2, 1)\n",
        " plt.plot(x, acc, 'b', label='Training acc')\n",
        " plt.plot(x, val_acc, 'r', label='Validation acc')\n",
        " plt.title('Training and validation accuracy')\n",
        " plt.legend()\n",
        " plt.subplot(1, 2, 2)\n",
        " plt.plot(x, loss, 'b', label='Training loss')\n",
        " plt.plot(x, val_loss, 'r', label='Validation loss')\n",
        " plt.title('Training and validation loss')\n",
        " plt.legend()\n",
        "plot_history(history)"
      ]
    },
    {
      "cell_type": "markdown",
      "metadata": {
        "id": "gAJQVG4Ti5G-"
      },
      "source": [
        "**Parameter used**\n",
        "\n",
        "Convolutional Neural Networks (CNN): We have used this model by inculcating the respective parameters. The model has a total of 7 layers, including 3 convulational layers, 3 dense layers, and an output layer with the first convolutional layer having 64 filters with a size of (3,3) followed by batch normalization and a max pooling layer with a pool size of (2,2) and a consistent dropout rate of 0.25. The second and third layer consists of 128 and 512 layers respectively with the output layer having two dense layers with 256 and 128 units respectively with each layer having a dropout rate of 0.5. Finally, the output layer consists of 7 units for each class of emotions and uses softmax."
      ]
    },
    {
      "cell_type": "markdown",
      "metadata": {
        "id": "c-NMrAoGfSiu"
      },
      "source": [
        "# Complex NN:\n",
        "\n",
        " We have chosen Residual Network(ResNet), Transformer and Convolutional Recurrent Neural Network (CRNN) models for this task."
      ]
    },
    {
      "cell_type": "markdown",
      "metadata": {
        "id": "__9dbDSUflJ-"
      },
      "source": [
        "##  Transformer Model:\n",
        "\n",
        "Transformer is a neural network that is commonly used for natural language processing tasks. They are designed mainly to handle sequential data and identify dependencies between the input sequence. We have used it because it is efficient in handling tasks involving sequential datasets."
      ]
    },
    {
      "cell_type": "code",
      "execution_count": null,
      "metadata": {
        "id": "EBVhkMX45vqc"
      },
      "outputs": [],
      "source": [
        "#Transformer\n",
        "from keras.layers import LayerNormalization, MultiHeadAttention, Dense, Dropout, Input\n",
        "from keras.models import Model\n",
        "from keras.layers import Layer\n",
        "\n",
        "class TransformerBlock(Layer):\n",
        "    def __init__(self, embed_dim, num_heads, feed_forward_dim, dropout_rate=0.1, **kwargs):\n",
        "        super().__init__(**kwargs)\n",
        "        self.embed_dim = embed_dim\n",
        "        self.num_heads = num_heads\n",
        "        self.feed_forward_dim = feed_forward_dim\n",
        "        self.dropout_rate = dropout_rate\n",
        "\n",
        "    def build(self, input_shape):\n",
        "        self.attention = MultiHeadAttention(num_heads=self.num_heads, key_dim=self.embed_dim)\n",
        "        self.feed_forward = Sequential([\n",
        "            Dense(self.feed_forward_dim, activation='relu'),\n",
        "            Dense(self.embed_dim)\n",
        "        ])\n",
        "        self.layer_norm_1 = LayerNormalization()\n",
        "        self.layer_norm_2 = LayerNormalization()\n",
        "        self.dropout_1 = Dropout(rate=self.dropout_rate)\n",
        "        self.dropout_2 = Dropout(rate=self.dropout_rate)\n",
        "        super().build(input_shape)\n",
        "\n",
        "    def call(self, inputs):\n",
        "        attn_output = self.attention(inputs, inputs)\n",
        "        attn_output = self.dropout_1(attn_output)\n",
        "        out1 = self.layer_norm_1(inputs + attn_output)\n",
        "        feed_forward_output = self.feed_forward(out1)\n",
        "        feed_forward_output = self.dropout_2(feed_forward_output)\n",
        "        return self.layer_norm_2(out1 + feed_forward_output)"
      ]
    },
    {
      "cell_type": "code",
      "execution_count": null,
      "metadata": {
        "id": "rBgeYo3Cm_Pw"
      },
      "outputs": [],
      "source": [
        "# Define the input shape\n",
        "input_shape = (48, 48, 1)\n",
        "\n",
        "# Define the number of classes\n",
        "num_classes = 7\n",
        "\n",
        "# Define the input layer\n",
        "inputs = Input(shape=input_shape)"
      ]
    },
    {
      "cell_type": "code",
      "execution_count": null,
      "metadata": {
        "id": "mZaP00vd9Hl8"
      },
      "outputs": [],
      "source": [
        "from keras.utils import to_categorical\n",
        "\n",
        "# Assuming y_train and y_val are the targets/labels for training and validation sets respectively\n",
        "y_train_one_hot = to_categorical(y_train)\n",
        "y_val_one_hot = to_categorical(y_val)"
      ]
    },
    {
      "cell_type": "code",
      "execution_count": null,
      "metadata": {
        "id": "yNCNS6eaprDe"
      },
      "outputs": [],
      "source": [
        "# Reshape the input to a sequence of vectors\n",
        "x = Reshape((input_shape[0] * input_shape[1], input_shape[2]))(inputs)\n",
        "\n",
        "# Apply the Transformer layer\n",
        "x = TransformerBlock(embed_dim=64, num_heads=4, feed_forward_dim=64, dropout_rate=0.1)(x)\n",
        "\n",
        "# Flatten the output of the Transformer layer\n",
        "x = Flatten()(x)\n",
        "\n",
        "# Define the output layer\n",
        "outputs = Dense(num_classes, activation='softmax')(x)\n"
      ]
    },
    {
      "cell_type": "code",
      "execution_count": null,
      "metadata": {
        "id": "fbJ_8oCt6WwK"
      },
      "outputs": [],
      "source": [
        "# Define the model\n",
        "model = Model(inputs=inputs, outputs=outputs)\n",
        "\n",
        "# Compile the model\n",
        "model.compile(optimizer='adam', loss='categorical_crossentropy', metrics=['accuracy'])\n"
      ]
    },
    {
      "cell_type": "code",
      "execution_count": null,
      "metadata": {
        "colab": {
          "base_uri": "https://localhost:8080/"
        },
        "id": "8duNoQ-B8GFM",
        "outputId": "8c485c17-ed21-4cdd-825f-778099fb87b4"
      },
      "outputs": [
        {
          "name": "stdout",
          "output_type": "stream",
          "text": [
            "Model: \"model\"\n",
            "_________________________________________________________________\n",
            " Layer (type)                Output Shape              Param #   \n",
            "=================================================================\n",
            " input_1 (InputLayer)        [(None, 48, 48, 1)]       0         \n",
            "                                                                 \n",
            " reshape (Reshape)           (None, 2304, 1)           0         \n",
            "                                                                 \n",
            " transformer_block (Transfor  (None, 2304, 64)         6211      \n",
            " merBlock)                                                       \n",
            "                                                                 \n",
            " flatten_6 (Flatten)         (None, 147456)            0         \n",
            "                                                                 \n",
            " dense_15 (Dense)            (None, 7)                 1032199   \n",
            "                                                                 \n",
            "=================================================================\n",
            "Total params: 1,038,410\n",
            "Trainable params: 1,038,410\n",
            "Non-trainable params: 0\n",
            "_________________________________________________________________\n"
          ]
        }
      ],
      "source": [
        "model.summary()"
      ]
    },
    {
      "cell_type": "code",
      "execution_count": null,
      "metadata": {
        "colab": {
          "base_uri": "https://localhost:8080/"
        },
        "id": "XDsLemGM69ll",
        "outputId": "37317138-5611-42f7-e4f4-90eee1d92d9b"
      },
      "outputs": [
        {
          "name": "stdout",
          "output_type": "stream",
          "text": [
            "1813/1813 [==============================] - 391s 213ms/step - loss: 1.9779 - accuracy: 0.1967 - val_loss: 1.8491 - val_accuracy: 0.2505\n"
          ]
        }
      ],
      "source": [
        "# Train the model\n",
        "history = model.fit(X_train, y_train_one_hot, batch_size=16, validation_data=(X_val, y_val_one_hot), epochs=1)"
      ]
    },
    {
      "cell_type": "code",
      "execution_count": null,
      "metadata": {
        "colab": {
          "base_uri": "https://localhost:8080/"
        },
        "id": "bkF1pVYeUEqA",
        "outputId": "30fa2676-a8e3-40ed-90b9-ed773a455c33"
      },
      "outputs": [
        {
          "name": "stdout",
          "output_type": "stream",
          "text": [
            "216/216 [==============================] - 34s 153ms/step\n"
          ]
        }
      ],
      "source": [
        "tranformer_test_preds = model.predict(X_test)"
      ]
    },
    {
      "cell_type": "code",
      "execution_count": null,
      "metadata": {
        "id": "uVAB2N4XLBxX"
      },
      "outputs": [],
      "source": [
        "test_preds_classes = np.argmax(tranformer_test_preds, axis=1)\n",
        "final = pd.DataFrame(columns=['id', 'emotion'])\n",
        "final['id'] = df_test['id']\n",
        "final['emotion'] = test_preds_classes\n",
        "final.to_csv('transformer submission.csv', index=False)"
      ]
    },
    {
      "cell_type": "code",
      "execution_count": null,
      "metadata": {
        "colab": {
          "base_uri": "https://localhost:8080/"
        },
        "id": "KmwVwrEagFk8",
        "outputId": "648c7ea4-8922-4062-b29f-df1e62de07b1"
      },
      "outputs": [
        {
          "name": "stdout",
          "output_type": "stream",
          "text": [
            "182/182 [==============================] - 28s 153ms/step\n"
          ]
        },
        {
          "data": {
            "text/plain": [
              "5800"
            ]
          },
          "execution_count": 60,
          "metadata": {},
          "output_type": "execute_result"
        }
      ],
      "source": [
        "transformer_val_preds = model.predict(X_val)\n",
        "# y_val\n",
        "len(transformer_val_preds)"
      ]
    },
    {
      "cell_type": "code",
      "execution_count": null,
      "metadata": {
        "id": "WSVmiFjfGWem"
      },
      "outputs": [],
      "source": [
        "val_acc = accuracy_score(y_val_categorical.argmax(axis=1), transformer_val_preds.argmax(axis=1))\n",
        "val_acc"
      ]
    },
    {
      "cell_type": "code",
      "execution_count": null,
      "metadata": {
        "colab": {
          "base_uri": "https://localhost:8080/"
        },
        "id": "PoA_Z-bagQz0",
        "outputId": "a9985cac-66d2-482c-be07-084b95a05646"
      },
      "outputs": [
        {
          "name": "stdout",
          "output_type": "stream",
          "text": [
            "MSE: 0.11963789\n",
            "Standard Deviation: 0.07808984\n"
          ]
        }
      ],
      "source": [
        "mse = mean_squared_error(y_val_categorical, transformer_val_preds)\n",
        "std_dev = np.std(transformer_val_preds)\n",
        "print(\"MSE:\", mse)\n",
        "print(\"Standard Deviation:\", std_dev)"
      ]
    },
    {
      "cell_type": "code",
      "execution_count": null,
      "metadata": {
        "colab": {
          "base_uri": "https://localhost:8080/",
          "height": 392
        },
        "id": "-L12HsCiifnK",
        "outputId": "27994c4e-6bfd-4c1a-d051-0c1f17040972"
      },
      "outputs": [
        {
          "data": {
            "image/png": "[encoded data removed]",
            "text/plain": [
              "<Figure size 800x400 with 2 Axes>"
            ]
          },
          "metadata": {},
          "output_type": "display_data"
        }
      ],
      "source": [
        "plt.style.use('ggplot')\n",
        "def plot_history(history):\n",
        " acc = history.history['accuracy']\n",
        " val_acc = history.history['val_accuracy']\n",
        " loss = history.history['loss']\n",
        " val_loss = history.history['val_loss']\n",
        " x = range(1, len(acc) + 1)\n",
        " plt.figure(figsize=(8, 4))\n",
        " plt.subplot(1, 2, 1)\n",
        " plt.plot(x, acc, 'b', label='Training acc')\n",
        " plt.plot(x, val_acc, 'r', label='Validation acc')\n",
        " plt.title('Training and validation accuracy')\n",
        " plt.legend()\n",
        " plt.subplot(1, 2, 2)\n",
        " plt.plot(x, loss, 'b', label='Training loss')\n",
        " plt.plot(x, val_loss, 'r', label='Validation loss')\n",
        " plt.title('Training and validation loss')\n",
        " plt.legend()\n",
        "plot_history(history)"
      ]
    },
    {
      "cell_type": "markdown",
      "metadata": {
        "id": "HPVcrNBEfzY-"
      },
      "source": [
        "## Convolutional Recurrent Neural Networks (CRNN):\n",
        "\n",
        "Lastly, we have used CRNN as our final model or the task. CRNN is a neural network model that combines the strengths of both convolutional neural networks and recurrent neural networks. It is efficient is tasks involving sequential data with spatial structure such as image classification due to which we have chosen it."
      ]
    },
    {
      "cell_type": "code",
      "execution_count": null,
      "metadata": {
        "id": "CdhUMdt6Rp9k"
      },
      "outputs": [],
      "source": [
        "#CRNN\n",
        "from keras.models import Sequential\n",
        "from keras.layers import Conv2D, MaxPooling2D, LSTM, Dense, Dropout, BatchNormalization, Reshape, Flatten, TimeDistributed, Activation\n",
        "\n",
        "# Define the model\n",
        "model = Sequential()\n",
        "\n",
        "# Convolutional layers\n",
        "model.add(Conv2D(32, (3, 3), activation='relu', input_shape=(48, 48, 1)))\n",
        "model.add(BatchNormalization())\n",
        "model.add(Conv2D(32, (3, 3), activation='relu'))\n",
        "model.add(BatchNormalization())\n",
        "model.add(MaxPooling2D(pool_size=(2, 2)))\n",
        "model.add(Dropout(0.25))\n",
        "\n",
        "model.add(Conv2D(64, (3, 3), activation='relu'))\n",
        "model.add(BatchNormalization())\n",
        "model.add(Conv2D(64, (3, 3), activation='relu'))\n",
        "model.add(BatchNormalization())\n",
        "model.add(MaxPooling2D(pool_size=(2, 2)))\n",
        "model.add(Dropout(0.25))\n",
        "\n",
        "model.add(Conv2D(128, (3, 3), activation='relu'))\n",
        "model.add(BatchNormalization())\n",
        "model.add(Conv2D(128, (3, 3), activation='relu'))\n",
        "model.add(BatchNormalization())\n",
        "model.add(MaxPooling2D(pool_size=(2, 2)))\n",
        "model.add(Dropout(0.25))\n"
      ]
    },
    {
      "cell_type": "code",
      "execution_count": null,
      "metadata": {
        "id": "cZfAzL1oS6nh"
      },
      "outputs": [],
      "source": [
        "# Reshape output of convolutional layers to fit into LSTM\n",
        "model.add(Reshape((-1, 128)))"
      ]
    },
    {
      "cell_type": "code",
      "execution_count": null,
      "metadata": {
        "id": "KmFHXa-LS0iZ"
      },
      "outputs": [],
      "source": [
        "# LSTM layer\n",
        "model.add(LSTM(128, return_sequences=True))\n",
        "model.add(Dropout(0.25))\n",
        "model.add(LSTM(64))\n",
        "model.add(Dropout(0.25))"
      ]
    },
    {
      "cell_type": "code",
      "execution_count": null,
      "metadata": {
        "id": "FkEmmb7LUVAs"
      },
      "outputs": [],
      "source": [
        "# Dense layers\n",
        "model.add(Dense(128, activation='relu'))\n",
        "model.add(Dropout(0.5))\n",
        "model.add(Dense(7, activation='softmax'))\n"
      ]
    },
    {
      "cell_type": "code",
      "execution_count": null,
      "metadata": {
        "colab": {
          "base_uri": "https://localhost:8080/"
        },
        "id": "Yz5iORbcUYJM",
        "outputId": "89abf0c5-4cb6-438c-dea5-aca08f6e3ffe"
      },
      "outputs": [
        {
          "name": "stdout",
          "output_type": "stream",
          "text": [
            "Model: \"sequential_6\"\n",
            "_________________________________________________________________\n",
            " Layer (type)                Output Shape              Param #   \n",
            "=================================================================\n",
            " conv2d_8 (Conv2D)           (None, 46, 46, 32)        320       \n",
            "                                                                 \n",
            " batch_normalization_3 (Batc  (None, 46, 46, 32)       128       \n",
            " hNormalization)                                                 \n",
            "                                                                 \n",
            " conv2d_9 (Conv2D)           (None, 44, 44, 32)        9248      \n",
            "                                                                 \n",
            " batch_normalization_4 (Batc  (None, 44, 44, 32)       128       \n",
            " hNormalization)                                                 \n",
            "                                                                 \n",
            " max_pooling2d_8 (MaxPooling  (None, 22, 22, 32)       0         \n",
            " 2D)                                                             \n",
            "                                                                 \n",
            " dropout_12 (Dropout)        (None, 22, 22, 32)        0         \n",
            "                                                                 \n",
            " conv2d_10 (Conv2D)          (None, 20, 20, 64)        18496     \n",
            "                                                                 \n",
            " batch_normalization_5 (Batc  (None, 20, 20, 64)       256       \n",
            " hNormalization)                                                 \n",
            "                                                                 \n",
            " conv2d_11 (Conv2D)          (None, 18, 18, 64)        36928     \n",
            "                                                                 \n",
            " batch_normalization_6 (Batc  (None, 18, 18, 64)       256       \n",
            " hNormalization)                                                 \n",
            "                                                                 \n",
            " max_pooling2d_9 (MaxPooling  (None, 9, 9, 64)         0         \n",
            " 2D)                                                             \n",
            "                                                                 \n",
            " dropout_13 (Dropout)        (None, 9, 9, 64)          0         \n",
            "                                                                 \n",
            " conv2d_12 (Conv2D)          (None, 7, 7, 128)         73856     \n",
            "                                                                 \n",
            " batch_normalization_7 (Batc  (None, 7, 7, 128)        512       \n",
            " hNormalization)                                                 \n",
            "                                                                 \n",
            " conv2d_13 (Conv2D)          (None, 5, 5, 128)         147584    \n",
            "                                                                 \n",
            " batch_normalization_8 (Batc  (None, 5, 5, 128)        512       \n",
            " hNormalization)                                                 \n",
            "                                                                 \n",
            " max_pooling2d_10 (MaxPoolin  (None, 2, 2, 128)        0         \n",
            " g2D)                                                            \n",
            "                                                                 \n",
            " dropout_14 (Dropout)        (None, 2, 2, 128)         0         \n",
            "                                                                 \n",
            " reshape_1 (Reshape)         (None, 4, 128)            0         \n",
            "                                                                 \n",
            " lstm (LSTM)                 (None, 4, 128)            131584    \n",
            "                                                                 \n",
            " dropout_15 (Dropout)        (None, 4, 128)            0         \n",
            "                                                                 \n",
            " lstm_1 (LSTM)               (None, 64)                49408     \n",
            "                                                                 \n",
            " dropout_16 (Dropout)        (None, 64)                0         \n",
            "                                                                 \n",
            " dense_16 (Dense)            (None, 128)               8320      \n",
            "                                                                 \n",
            " dropout_17 (Dropout)        (None, 128)               0         \n",
            "                                                                 \n",
            " dense_17 (Dense)            (None, 7)                 903       \n",
            "                                                                 \n",
            "=================================================================\n",
            "Total params: 478,439\n",
            "Trainable params: 477,543\n",
            "Non-trainable params: 896\n",
            "_________________________________________________________________\n"
          ]
        }
      ],
      "source": [
        "# Compile the model\n",
        "model.compile(optimizer='adam', loss='categorical_crossentropy', metrics=['accuracy'])\n",
        "# Print the summary of the model\n",
        "model.summary()"
      ]
    },
    {
      "cell_type": "code",
      "execution_count": null,
      "metadata": {
        "colab": {
          "base_uri": "https://localhost:8080/"
        },
        "id": "gUYAEMXOVBNl",
        "outputId": "cf2b7f32-726a-4d7b-e0f1-7846ce0debad"
      },
      "outputs": [
        {
          "name": "stdout",
          "output_type": "stream",
          "text": [
            "Epoch 1/200\n",
            "907/907 [==============================] - 34s 26ms/step - loss: 1.7010 - accuracy: 0.3098 - val_loss: 2.0097 - val_accuracy: 0.1755\n",
            "Epoch 2/200\n",
            "907/907 [==============================] - 24s 26ms/step - loss: 1.4790 - accuracy: 0.4304 - val_loss: 2.1451 - val_accuracy: 0.1971\n",
            "Epoch 3/200\n",
            "907/907 [==============================] - 24s 26ms/step - loss: 1.3825 - accuracy: 0.4778 - val_loss: 1.9030 - val_accuracy: 0.2917\n",
            "Epoch 4/200\n",
            "907/907 [==============================] - 23s 25ms/step - loss: 1.3305 - accuracy: 0.5024 - val_loss: 2.1156 - val_accuracy: 0.2852\n",
            "Epoch 5/200\n",
            "907/907 [==============================] - 23s 25ms/step - loss: 1.2893 - accuracy: 0.5163 - val_loss: 1.9208 - val_accuracy: 0.3626\n",
            "Epoch 6/200\n",
            "907/907 [==============================] - 23s 26ms/step - loss: 1.2669 - accuracy: 0.5247 - val_loss: 1.7485 - val_accuracy: 0.3336\n",
            "Epoch 7/200\n",
            "907/907 [==============================] - 22s 24ms/step - loss: 1.2404 - accuracy: 0.5382 - val_loss: 2.3407 - val_accuracy: 0.1898\n",
            "Epoch 8/200\n",
            "907/907 [==============================] - 23s 26ms/step - loss: 1.2201 - accuracy: 0.5419 - val_loss: 1.7423 - val_accuracy: 0.3686\n",
            "Epoch 9/200\n",
            "907/907 [==============================] - 23s 25ms/step - loss: 1.2004 - accuracy: 0.5513 - val_loss: 1.7213 - val_accuracy: 0.3686\n",
            "Epoch 10/200\n",
            "907/907 [==============================] - 22s 24ms/step - loss: 1.1929 - accuracy: 0.5541 - val_loss: 2.0306 - val_accuracy: 0.2469\n",
            "Epoch 11/200\n",
            "907/907 [==============================] - 22s 25ms/step - loss: 1.1817 - accuracy: 0.5597 - val_loss: 1.7057 - val_accuracy: 0.3362\n",
            "Epoch 12/200\n",
            "907/907 [==============================] - 22s 24ms/step - loss: 1.1695 - accuracy: 0.5652 - val_loss: 1.8001 - val_accuracy: 0.3919\n",
            "Epoch 13/200\n",
            "907/907 [==============================] - 23s 26ms/step - loss: 1.1608 - accuracy: 0.5724 - val_loss: 2.1816 - val_accuracy: 0.2597\n",
            "Epoch 14/200\n",
            "907/907 [==============================] - 29s 32ms/step - loss: 1.1542 - accuracy: 0.5730 - val_loss: 2.1919 - val_accuracy: 0.2905\n",
            "Epoch 15/200\n",
            "907/907 [==============================] - 31s 34ms/step - loss: 1.1406 - accuracy: 0.5742 - val_loss: 2.0906 - val_accuracy: 0.3086\n",
            "Epoch 16/200\n",
            "907/907 [==============================] - 23s 25ms/step - loss: 1.1265 - accuracy: 0.5815 - val_loss: 1.8635 - val_accuracy: 0.3464\n",
            "Epoch 17/200\n",
            "907/907 [==============================] - 24s 26ms/step - loss: 1.1356 - accuracy: 0.5812 - val_loss: 2.4467 - val_accuracy: 0.2809\n",
            "Epoch 18/200\n",
            "907/907 [==============================] - 22s 25ms/step - loss: 1.1260 - accuracy: 0.5861 - val_loss: 2.0998 - val_accuracy: 0.2674\n",
            "Epoch 19/200\n",
            "907/907 [==============================] - 22s 25ms/step - loss: 1.1145 - accuracy: 0.5873 - val_loss: 3.0773 - val_accuracy: 0.1717\n",
            "Epoch 20/200\n",
            "907/907 [==============================] - 23s 25ms/step - loss: 1.1041 - accuracy: 0.5891 - val_loss: 3.4627 - val_accuracy: 0.1533\n",
            "Epoch 21/200\n",
            "907/907 [==============================] - 23s 25ms/step - loss: 1.1078 - accuracy: 0.5880 - val_loss: 2.6234 - val_accuracy: 0.2038\n",
            "Epoch 22/200\n",
            "907/907 [==============================] - 23s 26ms/step - loss: 1.0996 - accuracy: 0.5917 - val_loss: 3.1733 - val_accuracy: 0.1747\n",
            "Epoch 23/200\n",
            "907/907 [==============================] - 23s 26ms/step - loss: 1.0981 - accuracy: 0.5939 - val_loss: 2.0808 - val_accuracy: 0.3352\n",
            "Epoch 24/200\n",
            "907/907 [==============================] - 22s 25ms/step - loss: 1.0885 - accuracy: 0.5966 - val_loss: 2.1489 - val_accuracy: 0.3084\n",
            "Epoch 25/200\n",
            "907/907 [==============================] - 24s 26ms/step - loss: 1.0891 - accuracy: 0.5999 - val_loss: 2.2063 - val_accuracy: 0.2895\n",
            "Epoch 26/200\n",
            "907/907 [==============================] - 24s 26ms/step - loss: 1.0800 - accuracy: 0.5994 - val_loss: 2.7976 - val_accuracy: 0.1978\n",
            "Epoch 27/200\n",
            "907/907 [==============================] - 22s 24ms/step - loss: 1.0741 - accuracy: 0.6022 - val_loss: 2.0404 - val_accuracy: 0.2662\n",
            "Epoch 28/200\n",
            "907/907 [==============================] - 24s 26ms/step - loss: 1.0711 - accuracy: 0.6019 - val_loss: 2.3935 - val_accuracy: 0.2741\n",
            "Epoch 29/200\n",
            "907/907 [==============================] - 23s 26ms/step - loss: 1.0657 - accuracy: 0.6068 - val_loss: 2.3975 - val_accuracy: 0.2883\n",
            "Epoch 30/200\n",
            "907/907 [==============================] - 23s 26ms/step - loss: 1.0677 - accuracy: 0.6060 - val_loss: 2.3703 - val_accuracy: 0.3152\n",
            "Epoch 31/200\n",
            "907/907 [==============================] - 22s 25ms/step - loss: 1.0622 - accuracy: 0.6071 - val_loss: 2.1201 - val_accuracy: 0.3297\n",
            "Epoch 32/200\n",
            "907/907 [==============================] - 24s 26ms/step - loss: 1.0561 - accuracy: 0.6145 - val_loss: 2.1736 - val_accuracy: 0.3312\n",
            "Epoch 33/200\n",
            "907/907 [==============================] - 23s 26ms/step - loss: 1.0573 - accuracy: 0.6079 - val_loss: 2.4863 - val_accuracy: 0.2567\n",
            "Epoch 34/200\n",
            "907/907 [==============================] - 22s 24ms/step - loss: 1.0490 - accuracy: 0.6092 - val_loss: 2.2405 - val_accuracy: 0.2788\n",
            "Epoch 35/200\n",
            "907/907 [==============================] - 23s 25ms/step - loss: 1.0480 - accuracy: 0.6090 - val_loss: 2.7220 - val_accuracy: 0.2202\n",
            "Epoch 36/200\n",
            "907/907 [==============================] - 22s 24ms/step - loss: 1.0382 - accuracy: 0.6168 - val_loss: 2.4427 - val_accuracy: 0.2379\n",
            "Epoch 37/200\n",
            "907/907 [==============================] - 23s 25ms/step - loss: 1.0358 - accuracy: 0.6140 - val_loss: 3.1248 - val_accuracy: 0.1934\n",
            "Epoch 38/200\n",
            "907/907 [==============================] - 22s 24ms/step - loss: 1.0451 - accuracy: 0.6107 - val_loss: 3.0833 - val_accuracy: 0.2048\n",
            "Epoch 39/200\n",
            "907/907 [==============================] - 24s 26ms/step - loss: 1.0355 - accuracy: 0.6183 - val_loss: 3.0165 - val_accuracy: 0.2212\n",
            "Epoch 40/200\n",
            "907/907 [==============================] - 23s 25ms/step - loss: 1.0311 - accuracy: 0.6161 - val_loss: 2.8233 - val_accuracy: 0.2514\n",
            "Epoch 41/200\n",
            "907/907 [==============================] - 24s 26ms/step - loss: 1.0322 - accuracy: 0.6176 - val_loss: 2.8126 - val_accuracy: 0.2222\n",
            "Epoch 42/200\n",
            "907/907 [==============================] - 23s 26ms/step - loss: 1.0294 - accuracy: 0.6183 - val_loss: 2.7290 - val_accuracy: 0.2688\n",
            "Epoch 43/200\n",
            "907/907 [==============================] - 22s 24ms/step - loss: 1.0240 - accuracy: 0.6241 - val_loss: 2.5177 - val_accuracy: 0.2752\n",
            "Epoch 44/200\n",
            "907/907 [==============================] - 24s 26ms/step - loss: 1.0147 - accuracy: 0.6237 - val_loss: 2.2955 - val_accuracy: 0.3169\n",
            "Epoch 45/200\n",
            "907/907 [==============================] - 24s 26ms/step - loss: 1.0252 - accuracy: 0.6239 - val_loss: 2.5106 - val_accuracy: 0.2969\n",
            "Epoch 46/200\n",
            "907/907 [==============================] - 22s 25ms/step - loss: 1.0196 - accuracy: 0.6248 - val_loss: 2.6477 - val_accuracy: 0.2410\n",
            "Epoch 47/200\n",
            "907/907 [==============================] - 24s 26ms/step - loss: 1.0097 - accuracy: 0.6273 - val_loss: 2.4464 - val_accuracy: 0.2541\n",
            "Epoch 48/200\n",
            "907/907 [==============================] - 22s 24ms/step - loss: 1.0143 - accuracy: 0.6248 - val_loss: 2.8724 - val_accuracy: 0.2150\n",
            "Epoch 49/200\n",
            "907/907 [==============================] - 23s 25ms/step - loss: 1.0115 - accuracy: 0.6256 - val_loss: 2.6766 - val_accuracy: 0.2566\n",
            "Epoch 50/200\n",
            "907/907 [==============================] - 24s 26ms/step - loss: 1.0116 - accuracy: 0.6280 - val_loss: 2.4296 - val_accuracy: 0.3067\n",
            "Epoch 51/200\n",
            "907/907 [==============================] - 22s 24ms/step - loss: 1.0008 - accuracy: 0.6284 - val_loss: 3.4232 - val_accuracy: 0.2031\n",
            "Epoch 52/200\n",
            "907/907 [==============================] - 24s 26ms/step - loss: 0.9954 - accuracy: 0.6352 - val_loss: 3.6459 - val_accuracy: 0.2221\n",
            "Epoch 53/200\n",
            "907/907 [==============================] - 24s 26ms/step - loss: 1.0010 - accuracy: 0.6279 - val_loss: 3.7493 - val_accuracy: 0.2222\n",
            "Epoch 54/200\n",
            "907/907 [==============================] - 22s 24ms/step - loss: 0.9971 - accuracy: 0.6321 - val_loss: 3.0251 - val_accuracy: 0.2945\n",
            "Epoch 55/200\n",
            "907/907 [==============================] - 23s 26ms/step - loss: 0.9887 - accuracy: 0.6346 - val_loss: 2.6153 - val_accuracy: 0.3284\n",
            "Epoch 56/200\n",
            "907/907 [==============================] - 23s 26ms/step - loss: 0.9895 - accuracy: 0.6325 - val_loss: 3.0847 - val_accuracy: 0.2776\n",
            "Epoch 57/200\n",
            "907/907 [==============================] - 24s 26ms/step - loss: 0.9898 - accuracy: 0.6348 - val_loss: 3.3296 - val_accuracy: 0.2214\n",
            "Epoch 58/200\n",
            "907/907 [==============================] - 22s 24ms/step - loss: 0.9943 - accuracy: 0.6317 - val_loss: 3.2304 - val_accuracy: 0.2488\n",
            "Epoch 59/200\n",
            "907/907 [==============================] - 23s 26ms/step - loss: 0.9862 - accuracy: 0.6367 - val_loss: 3.2809 - val_accuracy: 0.2343\n",
            "Epoch 60/200\n",
            "907/907 [==============================] - 23s 26ms/step - loss: 0.9893 - accuracy: 0.6339 - val_loss: 3.5090 - val_accuracy: 0.2145\n",
            "Epoch 61/200\n",
            "907/907 [==============================] - 22s 24ms/step - loss: 0.9822 - accuracy: 0.6368 - val_loss: 3.4161 - val_accuracy: 0.2262\n",
            "Epoch 62/200\n",
            "907/907 [==============================] - 23s 26ms/step - loss: 0.9865 - accuracy: 0.6352 - val_loss: 3.4291 - val_accuracy: 0.2145\n",
            "Epoch 63/200\n",
            "907/907 [==============================] - 23s 25ms/step - loss: 0.9754 - accuracy: 0.6397 - val_loss: 3.2858 - val_accuracy: 0.3005\n",
            "Epoch 64/200\n",
            "907/907 [==============================] - 23s 25ms/step - loss: 0.9718 - accuracy: 0.6430 - val_loss: 4.3256 - val_accuracy: 0.2116\n",
            "Epoch 65/200\n",
            "907/907 [==============================] - 22s 24ms/step - loss: 0.9770 - accuracy: 0.6394 - val_loss: 3.9205 - val_accuracy: 0.2129\n",
            "Epoch 66/200\n",
            "907/907 [==============================] - 23s 25ms/step - loss: 0.9703 - accuracy: 0.6408 - val_loss: 4.1858 - val_accuracy: 0.2276\n",
            "Epoch 67/200\n",
            "907/907 [==============================] - 22s 25ms/step - loss: 0.9697 - accuracy: 0.6400 - val_loss: 4.8388 - val_accuracy: 0.1900\n",
            "Epoch 68/200\n",
            "907/907 [==============================] - 23s 25ms/step - loss: 0.9640 - accuracy: 0.6467 - val_loss: 4.5877 - val_accuracy: 0.2088\n",
            "Epoch 69/200\n",
            "907/907 [==============================] - 23s 26ms/step - loss: 0.9603 - accuracy: 0.6453 - val_loss: 3.0256 - val_accuracy: 0.2941\n",
            "Epoch 70/200\n",
            "907/907 [==============================] - 22s 25ms/step - loss: 0.9693 - accuracy: 0.6433 - val_loss: 3.8478 - val_accuracy: 0.2393\n",
            "Epoch 71/200\n",
            "907/907 [==============================] - 24s 26ms/step - loss: 0.9648 - accuracy: 0.6418 - val_loss: 4.1873 - val_accuracy: 0.2055\n",
            "Epoch 72/200\n",
            "907/907 [==============================] - 24s 26ms/step - loss: 0.9634 - accuracy: 0.6417 - val_loss: 4.6955 - val_accuracy: 0.1833\n",
            "Epoch 73/200\n",
            "907/907 [==============================] - 22s 24ms/step - loss: 0.9695 - accuracy: 0.6390 - val_loss: 5.2192 - val_accuracy: 0.1709\n",
            "Epoch 74/200\n",
            "907/907 [==============================] - 24s 26ms/step - loss: 0.9515 - accuracy: 0.6473 - val_loss: 4.5076 - val_accuracy: 0.2166\n",
            "Epoch 75/200\n",
            "907/907 [==============================] - 24s 26ms/step - loss: 0.9522 - accuracy: 0.6461 - val_loss: 3.3949 - val_accuracy: 0.2695\n",
            "Epoch 76/200\n",
            "907/907 [==============================] - 24s 26ms/step - loss: 0.9491 - accuracy: 0.6491 - val_loss: 3.5314 - val_accuracy: 0.2874\n",
            "Epoch 77/200\n",
            "907/907 [==============================] - 23s 26ms/step - loss: 0.9485 - accuracy: 0.6484 - val_loss: 4.6340 - val_accuracy: 0.1759\n",
            "Epoch 78/200\n",
            "907/907 [==============================] - 23s 25ms/step - loss: 0.9483 - accuracy: 0.6502 - val_loss: 3.9339 - val_accuracy: 0.2231\n",
            "Epoch 79/200\n",
            "907/907 [==============================] - 23s 25ms/step - loss: 0.9448 - accuracy: 0.6515 - val_loss: 4.1138 - val_accuracy: 0.1940\n",
            "Epoch 80/200\n",
            "907/907 [==============================] - 23s 26ms/step - loss: 0.9498 - accuracy: 0.6500 - val_loss: 4.0137 - val_accuracy: 0.2012\n",
            "Epoch 81/200\n",
            "907/907 [==============================] - 23s 25ms/step - loss: 0.9449 - accuracy: 0.6546 - val_loss: 5.1698 - val_accuracy: 0.1748\n",
            "Epoch 82/200\n",
            "907/907 [==============================] - 22s 25ms/step - loss: 0.9446 - accuracy: 0.6518 - val_loss: 3.6202 - val_accuracy: 0.2400\n",
            "Epoch 83/200\n",
            "907/907 [==============================] - 24s 26ms/step - loss: 0.9431 - accuracy: 0.6500 - val_loss: 4.4070 - val_accuracy: 0.1890\n",
            "Epoch 84/200\n",
            "907/907 [==============================] - 22s 25ms/step - loss: 0.9423 - accuracy: 0.6530 - val_loss: 5.8026 - val_accuracy: 0.1697\n",
            "Epoch 85/200\n",
            "907/907 [==============================] - 24s 27ms/step - loss: 0.9431 - accuracy: 0.6524 - val_loss: 5.2982 - val_accuracy: 0.1688\n",
            "Epoch 86/200\n",
            "907/907 [==============================] - 24s 26ms/step - loss: 0.9341 - accuracy: 0.6537 - val_loss: 5.2596 - val_accuracy: 0.1905\n",
            "Epoch 87/200\n",
            "907/907 [==============================] - 22s 24ms/step - loss: 0.9281 - accuracy: 0.6572 - val_loss: 5.1918 - val_accuracy: 0.1790\n",
            "Epoch 88/200\n",
            "907/907 [==============================] - 24s 26ms/step - loss: 0.9319 - accuracy: 0.6543 - val_loss: 4.9713 - val_accuracy: 0.1757\n",
            "Epoch 89/200\n",
            "907/907 [==============================] - 24s 27ms/step - loss: 0.9337 - accuracy: 0.6520 - val_loss: 5.0504 - val_accuracy: 0.1672\n",
            "Epoch 90/200\n",
            "907/907 [==============================] - 22s 24ms/step - loss: 0.9345 - accuracy: 0.6551 - val_loss: 5.1170 - val_accuracy: 0.1790\n",
            "Epoch 91/200\n",
            "907/907 [==============================] - 23s 26ms/step - loss: 0.9361 - accuracy: 0.6522 - val_loss: 4.7803 - val_accuracy: 0.2233\n",
            "Epoch 92/200\n",
            "907/907 [==============================] - 24s 27ms/step - loss: 0.9318 - accuracy: 0.6547 - val_loss: 4.1633 - val_accuracy: 0.2369\n",
            "Epoch 93/200\n",
            "907/907 [==============================] - 24s 26ms/step - loss: 0.9308 - accuracy: 0.6554 - val_loss: 5.5412 - val_accuracy: 0.1628\n",
            "Epoch 94/200\n",
            "907/907 [==============================] - 22s 25ms/step - loss: 0.9243 - accuracy: 0.6574 - val_loss: 4.1648 - val_accuracy: 0.2528\n",
            "Epoch 95/200\n",
            "907/907 [==============================] - 23s 25ms/step - loss: 0.9263 - accuracy: 0.6590 - val_loss: 5.2766 - val_accuracy: 0.1931\n",
            "Epoch 96/200\n",
            "907/907 [==============================] - 24s 26ms/step - loss: 0.9249 - accuracy: 0.6564 - val_loss: 4.5619 - val_accuracy: 0.2324\n",
            "Epoch 97/200\n",
            "907/907 [==============================] - 22s 25ms/step - loss: 0.9258 - accuracy: 0.6600 - val_loss: 4.4537 - val_accuracy: 0.2309\n",
            "Epoch 98/200\n",
            "907/907 [==============================] - 23s 26ms/step - loss: 0.9232 - accuracy: 0.6603 - val_loss: 4.4937 - val_accuracy: 0.2379\n",
            "Epoch 99/200\n",
            "907/907 [==============================] - 23s 25ms/step - loss: 0.9242 - accuracy: 0.6627 - val_loss: 3.7875 - val_accuracy: 0.2578\n",
            "Epoch 100/200\n",
            "907/907 [==============================] - 21s 24ms/step - loss: 0.9227 - accuracy: 0.6607 - val_loss: 3.6372 - val_accuracy: 0.2783\n",
            "Epoch 101/200\n",
            "907/907 [==============================] - 23s 26ms/step - loss: 0.9186 - accuracy: 0.6630 - val_loss: 3.3034 - val_accuracy: 0.2886\n",
            "Epoch 102/200\n",
            "907/907 [==============================] - 23s 25ms/step - loss: 0.9178 - accuracy: 0.6621 - val_loss: 3.5939 - val_accuracy: 0.2383\n",
            "Epoch 103/200\n",
            "907/907 [==============================] - 24s 26ms/step - loss: 0.9149 - accuracy: 0.6639 - val_loss: 3.9666 - val_accuracy: 0.2262\n",
            "Epoch 104/200\n",
            "907/907 [==============================] - 22s 25ms/step - loss: 0.9083 - accuracy: 0.6646 - val_loss: 5.0024 - val_accuracy: 0.1909\n",
            "Epoch 105/200\n",
            "907/907 [==============================] - 23s 25ms/step - loss: 0.9110 - accuracy: 0.6658 - val_loss: 4.9223 - val_accuracy: 0.2112\n",
            "Epoch 106/200\n",
            "907/907 [==============================] - 24s 26ms/step - loss: 0.9142 - accuracy: 0.6673 - val_loss: 3.5192 - val_accuracy: 0.2745\n",
            "Epoch 107/200\n",
            "907/907 [==============================] - 22s 24ms/step - loss: 0.9109 - accuracy: 0.6663 - val_loss: 3.5085 - val_accuracy: 0.2933\n",
            "Epoch 108/200\n",
            "907/907 [==============================] - 23s 25ms/step - loss: 0.9119 - accuracy: 0.6649 - val_loss: 6.1279 - val_accuracy: 0.1786\n",
            "Epoch 109/200\n",
            "907/907 [==============================] - 23s 25ms/step - loss: 0.9095 - accuracy: 0.6621 - val_loss: 4.2309 - val_accuracy: 0.2329\n",
            "Epoch 110/200\n",
            "907/907 [==============================] - 23s 25ms/step - loss: 0.9091 - accuracy: 0.6625 - val_loss: 5.9756 - val_accuracy: 0.1691\n",
            "Epoch 111/200\n",
            "907/907 [==============================] - 22s 24ms/step - loss: 0.9077 - accuracy: 0.6663 - val_loss: 5.7968 - val_accuracy: 0.1738\n",
            "Epoch 112/200\n",
            "907/907 [==============================] - 24s 26ms/step - loss: 0.9012 - accuracy: 0.6673 - val_loss: 5.8043 - val_accuracy: 0.1943\n",
            "Epoch 113/200\n",
            "907/907 [==============================] - 23s 26ms/step - loss: 0.9042 - accuracy: 0.6654 - val_loss: 4.8159 - val_accuracy: 0.2055\n",
            "Epoch 114/200\n",
            "907/907 [==============================] - 22s 24ms/step - loss: 0.9005 - accuracy: 0.6679 - val_loss: 4.9994 - val_accuracy: 0.1771\n",
            "Epoch 115/200\n",
            "907/907 [==============================] - 24s 26ms/step - loss: 0.8979 - accuracy: 0.6695 - val_loss: 5.7002 - val_accuracy: 0.1883\n",
            "Epoch 116/200\n",
            "907/907 [==============================] - 23s 26ms/step - loss: 0.8981 - accuracy: 0.6686 - val_loss: 5.4665 - val_accuracy: 0.1738\n",
            "Epoch 117/200\n",
            "907/907 [==============================] - 22s 24ms/step - loss: 0.8979 - accuracy: 0.6688 - val_loss: 5.6082 - val_accuracy: 0.1676\n",
            "Epoch 118/200\n",
            "907/907 [==============================] - 28s 31ms/step - loss: 0.9026 - accuracy: 0.6684 - val_loss: 6.9859 - val_accuracy: 0.1710\n",
            "Epoch 119/200\n",
            "907/907 [==============================] - 23s 25ms/step - loss: 0.9003 - accuracy: 0.6679 - val_loss: 6.3912 - val_accuracy: 0.1655\n",
            "Epoch 120/200\n",
            "907/907 [==============================] - 22s 24ms/step - loss: 0.8962 - accuracy: 0.6704 - val_loss: 5.0775 - val_accuracy: 0.2338\n",
            "Epoch 121/200\n",
            "907/907 [==============================] - 22s 25ms/step - loss: 0.8970 - accuracy: 0.6698 - val_loss: 4.9749 - val_accuracy: 0.2002\n",
            "Epoch 122/200\n",
            "907/907 [==============================] - 22s 25ms/step - loss: 0.8938 - accuracy: 0.6698 - val_loss: 4.8351 - val_accuracy: 0.2047\n",
            "Epoch 123/200\n",
            "907/907 [==============================] - 23s 25ms/step - loss: 0.8969 - accuracy: 0.6676 - val_loss: 4.7540 - val_accuracy: 0.2126\n",
            "Epoch 124/200\n",
            "907/907 [==============================] - 22s 24ms/step - loss: 0.8898 - accuracy: 0.6747 - val_loss: 4.8015 - val_accuracy: 0.2179\n",
            "Epoch 125/200\n",
            "907/907 [==============================] - 23s 25ms/step - loss: 0.8911 - accuracy: 0.6748 - val_loss: 4.7423 - val_accuracy: 0.1964\n",
            "Epoch 126/200\n",
            "907/907 [==============================] - 24s 27ms/step - loss: 0.8881 - accuracy: 0.6730 - val_loss: 5.4376 - val_accuracy: 0.2174\n",
            "Epoch 127/200\n",
            "907/907 [==============================] - 24s 26ms/step - loss: 0.8827 - accuracy: 0.6712 - val_loss: 4.4603 - val_accuracy: 0.2366\n",
            "Epoch 128/200\n",
            "907/907 [==============================] - 25s 27ms/step - loss: 0.8783 - accuracy: 0.6760 - val_loss: 5.4889 - val_accuracy: 0.2097\n",
            "Epoch 129/200\n",
            "907/907 [==============================] - 23s 26ms/step - loss: 0.8932 - accuracy: 0.6720 - val_loss: 5.0817 - val_accuracy: 0.2072\n",
            "Epoch 130/200\n",
            "907/907 [==============================] - 23s 25ms/step - loss: 0.8850 - accuracy: 0.6748 - val_loss: 6.5934 - val_accuracy: 0.1791\n",
            "Epoch 131/200\n",
            "907/907 [==============================] - 23s 26ms/step - loss: 0.8833 - accuracy: 0.6766 - val_loss: 5.1938 - val_accuracy: 0.2483\n",
            "Epoch 132/200\n",
            "907/907 [==============================] - 22s 24ms/step - loss: 0.8783 - accuracy: 0.6776 - val_loss: 3.9754 - val_accuracy: 0.2576\n",
            "Epoch 133/200\n",
            "907/907 [==============================] - 23s 26ms/step - loss: 0.8802 - accuracy: 0.6738 - val_loss: 5.3411 - val_accuracy: 0.2038\n",
            "Epoch 134/200\n",
            "907/907 [==============================] - 23s 25ms/step - loss: 0.8833 - accuracy: 0.6759 - val_loss: 4.8212 - val_accuracy: 0.2129\n",
            "Epoch 135/200\n",
            "907/907 [==============================] - 23s 25ms/step - loss: 0.8780 - accuracy: 0.6796 - val_loss: 4.1893 - val_accuracy: 0.2367\n",
            "Epoch 136/200\n",
            "907/907 [==============================] - 22s 24ms/step - loss: 0.8772 - accuracy: 0.6769 - val_loss: 4.2045 - val_accuracy: 0.2602\n",
            "Epoch 137/200\n",
            "907/907 [==============================] - 22s 24ms/step - loss: 0.8786 - accuracy: 0.6793 - val_loss: 4.5233 - val_accuracy: 0.2564\n",
            "Epoch 138/200\n",
            "907/907 [==============================] - 24s 26ms/step - loss: 0.8766 - accuracy: 0.6760 - val_loss: 6.0255 - val_accuracy: 0.1738\n",
            "Epoch 139/200\n",
            "907/907 [==============================] - 24s 26ms/step - loss: 0.8722 - accuracy: 0.6804 - val_loss: 5.3606 - val_accuracy: 0.2262\n",
            "Epoch 140/200\n",
            "907/907 [==============================] - 22s 24ms/step - loss: 0.8757 - accuracy: 0.6810 - val_loss: 5.2178 - val_accuracy: 0.2121\n",
            "Epoch 141/200\n",
            "907/907 [==============================] - 24s 26ms/step - loss: 0.8670 - accuracy: 0.6819 - val_loss: 5.1450 - val_accuracy: 0.2291\n",
            "Epoch 142/200\n",
            "907/907 [==============================] - 24s 26ms/step - loss: 0.8730 - accuracy: 0.6783 - val_loss: 6.0568 - val_accuracy: 0.2050\n",
            "Epoch 143/200\n",
            "907/907 [==============================] - 23s 26ms/step - loss: 0.8740 - accuracy: 0.6783 - val_loss: 5.1952 - val_accuracy: 0.2010\n",
            "Epoch 144/200\n",
            "907/907 [==============================] - 22s 24ms/step - loss: 0.8687 - accuracy: 0.6793 - val_loss: 3.7196 - val_accuracy: 0.2695\n",
            "Epoch 145/200\n",
            "907/907 [==============================] - 23s 25ms/step - loss: 0.8700 - accuracy: 0.6792 - val_loss: 4.5976 - val_accuracy: 0.2217\n",
            "Epoch 146/200\n",
            "907/907 [==============================] - 23s 25ms/step - loss: 0.8726 - accuracy: 0.6772 - val_loss: 4.8312 - val_accuracy: 0.2128\n",
            "Epoch 147/200\n",
            "907/907 [==============================] - 22s 24ms/step - loss: 0.8679 - accuracy: 0.6817 - val_loss: 4.4071 - val_accuracy: 0.2248\n",
            "Epoch 148/200\n",
            "907/907 [==============================] - 24s 26ms/step - loss: 0.8677 - accuracy: 0.6819 - val_loss: 5.4060 - val_accuracy: 0.2090\n",
            "Epoch 149/200\n",
            "907/907 [==============================] - 23s 26ms/step - loss: 0.8651 - accuracy: 0.6842 - val_loss: 6.3653 - val_accuracy: 0.1898\n",
            "Epoch 150/200\n",
            "907/907 [==============================] - 24s 27ms/step - loss: 0.8650 - accuracy: 0.6832 - val_loss: 6.3650 - val_accuracy: 0.1955\n",
            "Epoch 151/200\n",
            "907/907 [==============================] - 22s 24ms/step - loss: 0.8630 - accuracy: 0.6822 - val_loss: 4.1997 - val_accuracy: 0.2667\n",
            "Epoch 152/200\n",
            "907/907 [==============================] - 23s 26ms/step - loss: 0.8686 - accuracy: 0.6832 - val_loss: 5.9780 - val_accuracy: 0.2038\n",
            "Epoch 153/200\n",
            "907/907 [==============================] - 23s 25ms/step - loss: 0.8607 - accuracy: 0.6840 - val_loss: 4.8574 - val_accuracy: 0.2159\n",
            "Epoch 154/200\n",
            "907/907 [==============================] - 23s 25ms/step - loss: 0.8547 - accuracy: 0.6834 - val_loss: 4.0048 - val_accuracy: 0.2778\n",
            "Epoch 155/200\n",
            "907/907 [==============================] - 24s 27ms/step - loss: 0.8678 - accuracy: 0.6823 - val_loss: 5.5028 - val_accuracy: 0.2091\n",
            "Epoch 156/200\n",
            "907/907 [==============================] - 27s 30ms/step - loss: 0.8596 - accuracy: 0.6865 - val_loss: 4.6943 - val_accuracy: 0.2181\n",
            "Epoch 157/200\n",
            "907/907 [==============================] - 24s 26ms/step - loss: 0.8615 - accuracy: 0.6818 - val_loss: 5.0361 - val_accuracy: 0.2107\n",
            "Epoch 158/200\n",
            "907/907 [==============================] - 27s 29ms/step - loss: 0.8592 - accuracy: 0.6836 - val_loss: 3.9525 - val_accuracy: 0.2397\n",
            "Epoch 159/200\n",
            "907/907 [==============================] - 27s 30ms/step - loss: 0.8610 - accuracy: 0.6827 - val_loss: 3.9779 - val_accuracy: 0.2376\n",
            "Epoch 160/200\n",
            "907/907 [==============================] - 22s 25ms/step - loss: 0.8583 - accuracy: 0.6804 - val_loss: 5.5348 - val_accuracy: 0.1984\n",
            "Epoch 161/200\n",
            "907/907 [==============================] - 24s 27ms/step - loss: 0.8532 - accuracy: 0.6867 - val_loss: 3.8902 - val_accuracy: 0.2512\n",
            "Epoch 162/200\n",
            "907/907 [==============================] - 29s 32ms/step - loss: 0.8554 - accuracy: 0.6836 - val_loss: 4.5322 - val_accuracy: 0.2150\n",
            "Epoch 163/200\n",
            "907/907 [==============================] - 24s 26ms/step - loss: 0.8528 - accuracy: 0.6846 - val_loss: 4.7330 - val_accuracy: 0.1872\n",
            "Epoch 164/200\n",
            "907/907 [==============================] - 23s 25ms/step - loss: 0.8509 - accuracy: 0.6868 - val_loss: 6.1688 - val_accuracy: 0.1852\n",
            "Epoch 165/200\n",
            "907/907 [==============================] - 24s 27ms/step - loss: 0.8500 - accuracy: 0.6851 - val_loss: 5.4544 - val_accuracy: 0.2183\n",
            "Epoch 166/200\n",
            "907/907 [==============================] - 23s 26ms/step - loss: 0.8569 - accuracy: 0.6856 - val_loss: 4.3174 - val_accuracy: 0.2338\n",
            "Epoch 167/200\n",
            "907/907 [==============================] - 22s 24ms/step - loss: 0.8469 - accuracy: 0.6877 - val_loss: 5.3321 - val_accuracy: 0.1860\n",
            "Epoch 168/200\n",
            "907/907 [==============================] - 23s 26ms/step - loss: 0.8460 - accuracy: 0.6899 - val_loss: 4.7926 - val_accuracy: 0.1812\n",
            "Epoch 169/200\n",
            "907/907 [==============================] - 24s 26ms/step - loss: 0.8477 - accuracy: 0.6871 - val_loss: 4.2588 - val_accuracy: 0.2586\n",
            "Epoch 170/200\n",
            "907/907 [==============================] - 23s 26ms/step - loss: 0.8438 - accuracy: 0.6868 - val_loss: 4.3937 - val_accuracy: 0.2324\n",
            "Epoch 171/200\n",
            "907/907 [==============================] - 23s 26ms/step - loss: 0.8479 - accuracy: 0.6846 - val_loss: 4.6496 - val_accuracy: 0.2188\n",
            "Epoch 172/200\n",
            "907/907 [==============================] - 23s 26ms/step - loss: 0.8479 - accuracy: 0.6895 - val_loss: 5.2187 - val_accuracy: 0.1741\n",
            "Epoch 173/200\n",
            "907/907 [==============================] - 22s 24ms/step - loss: 0.8446 - accuracy: 0.6870 - val_loss: 4.6316 - val_accuracy: 0.1817\n",
            "Epoch 174/200\n",
            "907/907 [==============================] - 24s 26ms/step - loss: 0.8487 - accuracy: 0.6869 - val_loss: 4.0063 - val_accuracy: 0.2517\n",
            "Epoch 175/200\n",
            "907/907 [==============================] - 23s 26ms/step - loss: 0.8508 - accuracy: 0.6868 - val_loss: 4.1932 - val_accuracy: 0.2090\n",
            "Epoch 176/200\n",
            "907/907 [==============================] - 22s 25ms/step - loss: 0.8394 - accuracy: 0.6945 - val_loss: 5.4862 - val_accuracy: 0.1781\n",
            "Epoch 177/200\n",
            "907/907 [==============================] - 24s 26ms/step - loss: 0.8372 - accuracy: 0.6913 - val_loss: 3.8174 - val_accuracy: 0.2272\n",
            "Epoch 178/200\n",
            "907/907 [==============================] - 22s 24ms/step - loss: 0.8493 - accuracy: 0.6876 - val_loss: 3.9805 - val_accuracy: 0.2562\n",
            "Epoch 179/200\n",
            "907/907 [==============================] - 22s 24ms/step - loss: 0.8400 - accuracy: 0.6899 - val_loss: 4.9830 - val_accuracy: 0.2284\n",
            "Epoch 180/200\n",
            "907/907 [==============================] - 22s 24ms/step - loss: 0.8339 - accuracy: 0.6930 - val_loss: 4.5620 - val_accuracy: 0.2284\n",
            "Epoch 181/200\n",
            "907/907 [==============================] - 24s 26ms/step - loss: 0.8452 - accuracy: 0.6884 - val_loss: 4.1425 - val_accuracy: 0.2176\n",
            "Epoch 182/200\n",
            "907/907 [==============================] - 23s 25ms/step - loss: 0.8445 - accuracy: 0.6906 - val_loss: 3.9241 - val_accuracy: 0.2276\n",
            "Epoch 183/200\n",
            "907/907 [==============================] - 24s 26ms/step - loss: 0.8330 - accuracy: 0.6931 - val_loss: 4.1963 - val_accuracy: 0.2022\n",
            "Epoch 184/200\n",
            "907/907 [==============================] - 22s 24ms/step - loss: 0.8398 - accuracy: 0.6875 - val_loss: 4.4158 - val_accuracy: 0.1833\n",
            "Epoch 185/200\n",
            "907/907 [==============================] - 23s 25ms/step - loss: 0.8363 - accuracy: 0.6946 - val_loss: 4.2877 - val_accuracy: 0.2157\n",
            "Epoch 186/200\n",
            "907/907 [==============================] - 22s 24ms/step - loss: 0.8366 - accuracy: 0.6912 - val_loss: 4.3074 - val_accuracy: 0.2178\n",
            "Epoch 187/200\n",
            "907/907 [==============================] - 22s 25ms/step - loss: 0.8360 - accuracy: 0.6906 - val_loss: 4.4265 - val_accuracy: 0.2040\n",
            "Epoch 188/200\n",
            "907/907 [==============================] - 24s 26ms/step - loss: 0.8332 - accuracy: 0.6936 - val_loss: 4.6112 - val_accuracy: 0.1786\n",
            "Epoch 189/200\n",
            "907/907 [==============================] - 22s 24ms/step - loss: 0.8313 - accuracy: 0.6968 - val_loss: 3.9806 - val_accuracy: 0.2098\n",
            "Epoch 190/200\n",
            "907/907 [==============================] - 23s 25ms/step - loss: 0.8382 - accuracy: 0.6937 - val_loss: 5.3631 - val_accuracy: 0.1738\n",
            "Epoch 191/200\n",
            "907/907 [==============================] - 23s 25ms/step - loss: 0.8353 - accuracy: 0.6924 - val_loss: 5.6608 - val_accuracy: 0.1759\n",
            "Epoch 192/200\n",
            "907/907 [==============================] - 22s 24ms/step - loss: 0.8332 - accuracy: 0.6948 - val_loss: 4.3202 - val_accuracy: 0.2691\n",
            "Epoch 193/200\n",
            "907/907 [==============================] - 23s 26ms/step - loss: 0.8319 - accuracy: 0.6944 - val_loss: 3.9911 - val_accuracy: 0.2729\n",
            "Epoch 194/200\n",
            "907/907 [==============================] - 22s 24ms/step - loss: 0.8277 - accuracy: 0.6939 - val_loss: 4.8070 - val_accuracy: 0.2507\n",
            "Epoch 195/200\n",
            "907/907 [==============================] - 23s 25ms/step - loss: 0.8321 - accuracy: 0.6956 - val_loss: 4.5560 - val_accuracy: 0.2372\n",
            "Epoch 196/200\n",
            "907/907 [==============================] - 22s 25ms/step - loss: 0.8289 - accuracy: 0.6944 - val_loss: 4.6410 - val_accuracy: 0.2305\n",
            "Epoch 197/200\n",
            "907/907 [==============================] - 24s 26ms/step - loss: 0.8245 - accuracy: 0.6987 - val_loss: 3.9385 - val_accuracy: 0.2845\n",
            "Epoch 198/200\n",
            "907/907 [==============================] - 22s 24ms/step - loss: 0.8301 - accuracy: 0.6947 - val_loss: 3.8672 - val_accuracy: 0.2531\n",
            "Epoch 199/200\n",
            "907/907 [==============================] - 22s 25ms/step - loss: 0.8292 - accuracy: 0.6962 - val_loss: 3.7490 - val_accuracy: 0.2733\n",
            "Epoch 200/200\n",
            "907/907 [==============================] - 24s 26ms/step - loss: 0.8295 - accuracy: 0.6956 - val_loss: 4.4878 - val_accuracy: 0.2084\n"
          ]
        }
      ],
      "source": [
        "# Train the model\n",
        "history = model.fit(datagen.flow(X_train, y_train_one_hot, batch_size=32), validation_data=(X_val, y_val_one_hot), epochs=200)\n",
        "\n"
      ]
    },
    {
      "cell_type": "code",
      "execution_count": null,
      "metadata": {
        "colab": {
          "base_uri": "https://localhost:8080/"
        },
        "id": "othc0suBYm1N",
        "outputId": "232a30dc-0234-46d7-eaea-544021d4fe6b"
      },
      "outputs": [
        {
          "name": "stdout",
          "output_type": "stream",
          "text": [
            "216/216 [==============================] - 2s 7ms/step\n"
          ]
        }
      ],
      "source": [
        "CRNN_test_preds = model.predict(X_test)"
      ]
    },
    {
      "cell_type": "code",
      "execution_count": null,
      "metadata": {
        "id": "pAEVbT_XYuGi"
      },
      "outputs": [],
      "source": [
        "test_preds_classes = np.argmax(CRNN_test_preds, axis=1)\n",
        "final = pd.DataFrame(columns=['id', 'emotion'])\n",
        "final['id'] = df_test['id']\n",
        "final['emotion'] = test_preds_classes\n",
        "final.to_csv('CRNN submission.csv', index=False)"
      ]
    },
    {
      "cell_type": "code",
      "execution_count": null,
      "metadata": {
        "colab": {
          "base_uri": "https://localhost:8080/"
        },
        "id": "UofKDmYtg6Gr",
        "outputId": "76e18108-4dd2-408e-d10f-2a5a002903a6"
      },
      "outputs": [
        {
          "name": "stdout",
          "output_type": "stream",
          "text": [
            "182/182 [==============================] - 1s 4ms/step\n"
          ]
        },
        {
          "data": {
            "text/plain": [
              "5800"
            ]
          },
          "execution_count": 73,
          "metadata": {},
          "output_type": "execute_result"
        }
      ],
      "source": [
        "CRNN_val_preds = model.predict(X_val)\n",
        "# y_val\n",
        "len(CRNN_val_preds)"
      ]
    },
    {
      "cell_type": "code",
      "execution_count": null,
      "metadata": {
        "colab": {
          "base_uri": "https://localhost:8080/"
        },
        "id": "1pdywa_QGcbe",
        "outputId": "a4430147-1bc3-4822-c593-2f701b057ea5"
      },
      "outputs": [
        {
          "data": {
            "text/plain": [
              "0.20844827586206896"
            ]
          },
          "execution_count": 74,
          "metadata": {},
          "output_type": "execute_result"
        }
      ],
      "source": [
        "val_acc = accuracy_score(y_val_categorical.argmax(axis=1), CRNN_val_preds.argmax(axis=1))\n",
        "val_acc"
      ]
    },
    {
      "cell_type": "code",
      "execution_count": null,
      "metadata": {
        "colab": {
          "base_uri": "https://localhost:8080/"
        },
        "id": "duXfP6NwhFbk",
        "outputId": "2d88d55d-85bd-488a-ddb2-d8b499757dbf"
      },
      "outputs": [
        {
          "name": "stdout",
          "output_type": "stream",
          "text": [
            "MSE: 0.16326702\n",
            "Standard Deviation: 0.23740701\n"
          ]
        }
      ],
      "source": [
        "mse = mean_squared_error(y_val_categorical, CRNN_val_preds)\n",
        "std_dev = np.std(CRNN_val_preds)\n",
        "print(\"MSE:\", mse)\n",
        "print(\"Standard Deviation:\", std_dev)"
      ]
    },
    {
      "cell_type": "code",
      "execution_count": null,
      "metadata": {
        "colab": {
          "base_uri": "https://localhost:8080/",
          "height": 392
        },
        "id": "eK8Rgs0piOVb",
        "outputId": "47f29e8d-7b75-4abd-f214-cabf3d3e8d4a"
      },
      "outputs": [
        {
          "data": {
            "image/png": "[encoded data removed]",
            "text/plain": [
              "<Figure size 800x400 with 2 Axes>"
            ]
          },
          "metadata": {},
          "output_type": "display_data"
        }
      ],
      "source": [
        "plt.style.use('ggplot')\n",
        "def plot_history(history):\n",
        " acc = history.history['accuracy']\n",
        " val_acc = history.history['val_accuracy']\n",
        " loss = history.history['loss']\n",
        " val_loss = history.history['val_loss']\n",
        " x = range(1, len(acc) + 1)\n",
        " plt.figure(figsize=(8, 4))\n",
        " plt.subplot(1, 2, 1)\n",
        " plt.plot(x, acc, 'b', label='Training acc')\n",
        " plt.plot(x, val_acc, 'r', label='Validation acc')\n",
        " plt.title('Training and validation accuracy')\n",
        " plt.legend()\n",
        " plt.subplot(1, 2, 2)\n",
        " plt.plot(x, loss, 'b', label='Training loss')\n",
        " plt.plot(x, val_loss, 'r', label='Validation loss')\n",
        " plt.title('Training and validation loss')\n",
        " plt.legend()\n",
        "plot_history(history)"
      ]
    },
    {
      "cell_type": "markdown",
      "metadata": {
        "id": "bc3z_BQMjqje"
      },
      "source": [
        "**Parameter used**\n",
        "\n",
        "Convolutional Recurrent Neural Network (CRNN): The parameters we used to execute the given model were prominently a convolutional layer followed by a LSTM layer with 12 units and return sequences set to True followed by a dropout layer. Furthermore, we added another LSTM layer with 64 units followed by another dropout layer."
      ]
    },
    {
      "cell_type": "markdown",
      "metadata": {
        "id": "v-MkcUGpgQ_l"
      },
      "source": [
        "## Residual Network (ResNet):\n",
        "\n",
        "ResNet is a deep neural network which uses skip connections that allow the network to learn residual functions instead of directly learning the mapping between input and output. We have mainly considered to use it due to its ability to show excellence in image recognition tasks. One of its cardinal strength is to effectively train deep neural networks with hundreds of layers by addressing the problem of vanishing gradients that can occur during training."
      ]
    },
    {
      "cell_type": "code",
      "execution_count": null,
      "metadata": {
        "id": "LKT2tXodhwkR"
      },
      "outputs": [],
      "source": [
        "#ResNet\n",
        "import tensorflow as tf\n",
        "from keras.layers import Input, Conv2D, BatchNormalization, Activation, MaxPooling2D, GlobalAveragePooling2D, Dense\n",
        "from keras.models import Model\n",
        "\n",
        "# Clear the session and reset the graph\n",
        "tf.keras.backend.clear_session()\n",
        "\n",
        "def residual_block(x, filters, kernel_size, strides=1, activation='relu'):\n",
        "    # Shortcut path\n",
        "    shortcut = x\n",
        "\n",
        "    # First convolutional layer\n",
        "    x = Conv2D(filters, kernel_size=kernel_size, strides=strides, padding='same')(x)\n",
        "    x = BatchNormalization()(x)\n",
        "    x = Activation(activation)(x)\n",
        "\n",
        "    # Second convolutional layer\n",
        "    x = Conv2D(filters, kernel_size=kernel_size, padding='same')(x)\n",
        "    x = BatchNormalization()(x)\n",
        "\n",
        "    # Residual connection\n",
        "    if strides != 1 or shortcut.shape[3] != filters:\n",
        "        shortcut = Conv2D(filters, kernel_size=1, strides=strides)(shortcut)\n",
        "        shortcut = BatchNormalization()(shortcut)\n",
        "\n",
        "    x = Activation(activation)(x + shortcut)\n",
        "\n",
        "    return x"
      ]
    },
    {
      "cell_type": "code",
      "execution_count": null,
      "metadata": {
        "id": "KXLAwRU8jRIb"
      },
      "outputs": [],
      "source": [
        "def ResNet(input_shape, num_classes):\n",
        "    inputs = Input(shape=input_shape)\n",
        "\n",
        "    # Initial convolutional layer\n",
        "    x = Conv2D(64, kernel_size=7, strides=2, padding='same')(inputs)\n",
        "    x = BatchNormalization()(x)\n",
        "    x = Activation('relu')(x)\n",
        "    x = MaxPooling2D(pool_size=(3, 3), strides=2, padding='same')(x)\n",
        "\n",
        "    # Residual blocks\n",
        "    x = residual_block(x, filters=64, kernel_size=3, strides=1)\n",
        "    x = residual_block(x, filters=64, kernel_size=3, strides=1)\n",
        "    x = residual_block(x, filters=64, kernel_size=3, strides=1)\n",
        "\n",
        "    x = residual_block(x, filters=128, kernel_size=3, strides=2)\n",
        "    x = residual_block(x, filters=128, kernel_size=3, strides=1)\n",
        "    x = residual_block(x, filters=128, kernel_size=3, strides=1)\n",
        "\n",
        "    x = residual_block(x, filters=256, kernel_size=3, strides=2)\n",
        "    x = residual_block(x, filters=256, kernel_size=3, strides=1)\n",
        "    x = residual_block(x, filters=256, kernel_size=3, strides=1)\n",
        "\n",
        "    x = residual_block(x, filters=512, kernel_size=3, strides=2)\n",
        "    x = residual_block(x, filters=512, kernel_size=3, strides=1)\n",
        "    x = residual_block(x, filters=512, kernel_size=3, strides=1)\n",
        "\n",
        "    # Final layers\n",
        "    x = GlobalAveragePooling2D()(x)\n",
        "    x = Dense(num_classes, activation='softmax')(x)\n",
        "\n",
        "    # Define the model\n",
        "    model = Model(inputs=inputs, outputs=x)\n",
        "\n",
        "    return model"
      ]
    },
    {
      "cell_type": "code",
      "execution_count": null,
      "metadata": {
        "id": "q0IdfzrOjU0y"
      },
      "outputs": [],
      "source": [
        "# Create the model\n",
        "model = ResNet(input_shape=(48, 48, 1), num_classes=7)\n"
      ]
    },
    {
      "cell_type": "code",
      "execution_count": null,
      "metadata": {
        "id": "BfyBvxcYkYxx"
      },
      "outputs": [],
      "source": [
        "# Compile the model\n",
        "model.compile(optimizer='adam', loss='categorical_crossentropy', metrics=['accuracy'])\n"
      ]
    },
    {
      "cell_type": "code",
      "execution_count": null,
      "metadata": {
        "colab": {
          "base_uri": "https://localhost:8080/"
        },
        "id": "92bENLsykevw",
        "outputId": "9f3fccf1-543b-4743-ff6e-dec412169677"
      },
      "outputs": [
        {
          "name": "stdout",
          "output_type": "stream",
          "text": [
            "Epoch 1/2\n",
            "907/907 [==============================] - 37s 40ms/step - loss: 0.8690 - accuracy: 0.6748 - val_loss: 758.6752 - val_accuracy: 0.1064\n",
            "Epoch 2/2\n",
            "907/907 [==============================] - 43s 48ms/step - loss: 0.8541 - accuracy: 0.6793 - val_loss: 996.5957 - val_accuracy: 0.2507\n"
          ]
        }
      ],
      "source": [
        "history = model.fit(datagen.flow(X_train, y_train_one_hot, batch_size=32),\n",
        "                    validation_data=(X_val, y_val_one_hot),\n",
        "                    epochs=2)"
      ]
    },
    {
      "cell_type": "code",
      "execution_count": null,
      "metadata": {
        "colab": {
          "base_uri": "https://localhost:8080/"
        },
        "id": "kCloW_jUa4Dg",
        "outputId": "4e4028a3-90ca-43b0-bcc6-4add5b05faa8"
      },
      "outputs": [
        {
          "name": "stdout",
          "output_type": "stream",
          "text": [
            "216/216 [==============================] - 3s 10ms/step\n"
          ]
        }
      ],
      "source": [
        "ResNet_test_preds = model.predict(X_test)"
      ]
    },
    {
      "cell_type": "code",
      "execution_count": null,
      "metadata": {
        "id": "PM6zgixPbAEo"
      },
      "outputs": [],
      "source": [
        "test_preds_classes = np.argmax(ResNet_test_preds, axis=1)\n",
        "final = pd.DataFrame(columns=['id', 'emotion'])\n",
        "final['id'] = df_test['id']\n",
        "final['emotion'] = test_preds_classes\n",
        "final.to_csv('ReNet submission.csv', index=False)"
      ]
    },
    {
      "cell_type": "code",
      "execution_count": null,
      "metadata": {
        "colab": {
          "base_uri": "https://localhost:8080/"
        },
        "id": "O8pid-BqhSZi",
        "outputId": "ba9fe18a-ee06-486c-bb54-f85a158eab58"
      },
      "outputs": [
        {
          "name": "stdout",
          "output_type": "stream",
          "text": [
            "182/182 [==============================] - 2s 10ms/step\n"
          ]
        },
        {
          "data": {
            "text/plain": [
              "5800"
            ]
          },
          "execution_count": 88,
          "metadata": {},
          "output_type": "execute_result"
        }
      ],
      "source": [
        "ResNet_val_preds = model.predict(X_val)\n",
        "# y_val\n",
        "len(ResNet_val_preds)"
      ]
    },
    {
      "cell_type": "code",
      "execution_count": null,
      "metadata": {
        "colab": {
          "base_uri": "https://localhost:8080/"
        },
        "id": "3y9yuZ9KhaYE",
        "outputId": "9a6b896a-e7db-4413-d821-2003da17ae16"
      },
      "outputs": [
        {
          "name": "stdout",
          "output_type": "stream",
          "text": [
            "MSE: 0.11963789\n",
            "Standard Deviation: 0.07808984\n"
          ]
        }
      ],
      "source": [
        "mse = tf.keras.losses.MeanSquaredError()\n",
        "mse = mean_squared_error(y_val_categorical, transformer_val_preds)\n",
        "std_dev = np.std(transformer_val_preds)\n",
        "print(\"MSE:\", mse)\n",
        "print(\"Standard Deviation:\", std_dev)"
      ]
    },
    {
      "cell_type": "code",
      "execution_count": null,
      "metadata": {
        "colab": {
          "base_uri": "https://localhost:8080/",
          "height": 392
        },
        "id": "cKtMkAbzirW6",
        "outputId": "075159ce-f686-4227-fd43-4b2509839eae"
      },
      "outputs": [
        {
          "data": {
            "image/png": "[encoded data removed]",
            "text/plain": [
              "<Figure size 800x400 with 2 Axes>"
            ]
          },
          "metadata": {},
          "output_type": "display_data"
        }
      ],
      "source": [
        "plt.style.use('ggplot')\n",
        "def plot_history(history):\n",
        " acc = history.history['accuracy']\n",
        " val_acc = history.history['val_accuracy']\n",
        " loss = history.history['loss']\n",
        " val_loss = history.history['val_loss']\n",
        " x = range(1, len(acc) + 1)\n",
        " plt.figure(figsize=(8, 4))\n",
        " plt.subplot(1, 2, 1)\n",
        " plt.plot(x, acc, 'b', label='Training acc')\n",
        " plt.plot(x, val_acc, 'r', label='Validation acc')\n",
        " plt.title('Training and validation accuracy')\n",
        " plt.legend()\n",
        " plt.subplot(1, 2, 2)\n",
        " plt.plot(x, loss, 'b', label='Training loss')\n",
        " plt.plot(x, val_loss, 'r', label='Validation loss')\n",
        " plt.title('Training and validation loss')\n",
        " plt.legend()\n",
        "plot_history(history)"
      ]
    },
    {
      "cell_type": "markdown",
      "metadata": {
        "id": "8q-lrCyIjUO2"
      },
      "source": [
        "**Parameter used:**\n",
        "\n",
        "Residual Network (ResNet): The parameters used in this are mainly that the residual block contains 2 convolutional layers with batch normalization and activation functions applied to each layer. The output of the second layer is thereon added to the shortcut path, which is the input tensor passed to the residual block. This returns the desired output tensor. Furthermore, the model takes into consideration 64 filters followed by batch normalization, ReLu activation and max pooling."
      ]
    },
    {
      "cell_type": "markdown",
      "metadata": {
        "id": "d6_1wCmjj9pN"
      },
      "source": [
        "All the above mentioned parameters were carefully tuned so as to maximize the efficiency of the respective models so as to obtain optimum accuracy."
      ]
    },
    {
      "cell_type": "markdown",
      "metadata": {
        "id": "qjTgB16oRMio"
      },
      "source": [
        "![image.png](data:image/png;base64,iVBORw0KGgoAAAANSUhEUgAAAcMAAADKCAYAAADZ/iuiAAAgAElEQVR4nO2d32sc2Z7YPxU8/0Ae5rKzD8LjVvfFowvb4KcSV5h7jZKWc28ECZIJIsoyqJs1DBLZ9ZgovpqMxhHrcR5aXHBQK84iYi6WuAGzE3VvhGcwGtxPhh7Yxmz/8Jh+2LnsvOXeTXYJbCoPVae6fneX1FJ3q74fU+CuOnXqe77n1Pd7zvec0tHq9bqBIAiCICSYSwBTU1PDlkMQBEEQhsY/GrYAgiAIgjBsLg1bACHZ/OrXX5w6j3/1L382AEmE8yTp9Z708g+SQelSnKEwdG79i3924nuf/vf/MUBJhPMk6fWe9PIPkkHoUpyhMHwMWcOVSJJe70kv/yAZgC5HZs4wXzYwDINyPsZNepGWYWC0iuhnJplw1hjGyQ9hfEl6vY96+U9kk4fEIHQZ7AzzZQzDVESrGO5mlLIMo8wY6EsYUVRbO8lxIlQnakxe9IvKmdT7GNmus2n3ecre9OfdyB114D5aRFTJqRiELnuODFOr94Ibi17kTg6gTbs9sDIJCeS8e8j6wk1S1v9z8+INh8VZ1/uo267Bl1+n2NohB1QKGpqmMb3dhtxOt9NnOaqojsLAqBTQNFMObXqbNilWX56Ncx6ELvsIk+a4E6C4/L1V26AIwmkwTvEvPnnuraawDWHuzpn1VoVozr7eR9t2Db78U6Rp025vc79knqmuTaJpGnOlcytWMNU1JrVpttu4nfOAGIQu+5ozTN1ccM/JqZ5Vu0IloGfVDUF0D29PxJtmJ+fPRy+2fPlIWOvi8f8Mw3X86ef/yT7+49af8h8+/Yx/9+/v8cd/cseXNjb5eXJAe3uZyYcVIMXqPX+j8rVhz7x01PWguRbfuaBQkuOGoHfI2/bDZFDvjfud0ym2jDMNVcXlPOo9ru3qx+b0qpug60E2cPDlr9MkRSq1yl5QJ6BsYFiGNrX6MrTdRtnk01Fl7WEFcEdkonTeb1sehC6jnWGlQKECpFZx2gvVs6o8vE/Tc0u+bCnRHiKbvYHU6ku7QL40hYrv0XqxxcvVlC+f3I44xIuGN2xx50/+mH/4h3/g7//u7/jb//23/O53v+V3v/0tn3/++anDpPn5HNDm8KAKpWdUAHLzrnCat31Omw3YNjC9rsdFhbQ0q/uu8rfPT29jdqi781tRMlQPDmnjcQT5e6yaLy1r1ROJOXDOtN5PYLv6sTn91I1bDA1NK2CKsufqiAy+/FXWJrv21utESnNdW9venjbln1yjSn82eSDUmzj7IL10HtiW9QVuetryQHRp/W1S95EvG4ZhGEY5b6AXjZZhGEaraOjg+a0bxVbLaLXKRh4MyBvmneq3dbjuCU7TfWREPk65fPniL4ccI3/86tdfGP/n7/5v4PFv/+RjY6XwR8byv/kwNM2vfv1FjOfljXKrZbQc7UUvtgyzCendNEFtz5lH5HVvWw45523LkYdumGK2jKIeRwaV3nv/8I8zq/dB266e9eTXbT/1fx7tXj0zqN1123t42YPK0dcRpTNVB+V83zp3t+Wz02XvMGn1gMM2dg+r27MyexQu9KtMArSb1F15vKbVbnd7BO02bW+aQHLsOIfPgx+3CyNA2MT2Z5v3+d1vf8ujR/855kKCEPLz5FJmGOml1aZerpqzR66eZ6/22Xf7PSkqDKSOl6x6J7l6yFB65ggBq550+5CDERkVwjnUexzbZdPL5vRRNyNS/tKcY+R6p8fnZ2fepi2m0qSAdtP5pGidu9uyCnN350VhMLrsY87QEefdsYbSHkG6SV/TAkilcf3pb/0qk6lUd9I6lSLlTRNIhYJajeQ8hj4bLAwSbwzfeez+l/8aeb1/dIrmW8T2tLs9+cJpvdpn3+33JOgUWy9ZTTnltBYexJHBEQIu9+UEzp+zr/cYtssmyub0WTcjU37CbbKXM23Tiu47eOjqlfWw83205UHosr+P7kv3XRUe/lKVeGZKzY49sadT3HMWoJvGXumVL3smawPSMF4fgQr9M4iVYD2JGB2V7jt7z/427J7E73Ud6k3zZbF74772HcUUae9IQ833dSXuKQOUuG8u3SPXlxM4f86l3k9gu8JtTj910z8DL79alOVYFKMX75ADqDzDWf2ptNPt9WOTHfmf6NvMPGVrFN3eXrbm+vq1873b8kB02XPO0HvONT/njbvji1X7YtauOHt0uqB8XLFumTMc++NXv/7C+F9/+/cnPvqdM/TPDQa1R+8cm6vhedp91PXgtutq31HzKmE3u+b8estgvx/GCeZ9xrXez8B2udpMH3XT75zhWZQ/UDxXG/O0G/taHzbZzjx8rrr/9htD5z3a8qB0qdXrdUP2MxSGxa9+/QVz/+TGie8v/8/n8tf7Q8lTNnbIUaGgzTFKA8Ok13vSyz9IBqVL+UPdwtCJvRBG6A/rm0pviGxUSHq9J738g2QQuhRnKAydytHzYYtwITG/qYTKs1F0hVLvSS//IBmELiVMKgiCICSekdnCSRAEQRCGxSWARqMxbDkE4cRkMhlpwwkk6fWe9PIPkkwmIyNDQRAEQRBnKAiCICQecYaCIAhC4hFnKAiCICSekXCGxxsZMplb7HWGLYlwWqQuBUEYRwKcYYe9WxkyGfexcXxWInR42wRIc3nirJ7RfVZQ2W6dq+VWMoQ5jPPW/yA5z7oURoLOHrditlOzw+R87wLa/Hg0+GAGohPo7N0aQxswYGLqUukszKYH6VkR6Azf1IDsOkeNBo2jdbLA/soGZ1MX6nlXOHv76SmbdTxdPk/LrWTIcT3wseet/0EywfLTBo3GJjPDFkU4B47ZmN2C9SPzXdpdZH+lR1TgeIOV5iKLWf+lxd3uO9nYHNcWNCCddPa4W8nZdupoPTsmNmCQxNHlMRuZDHe5zXpA2zKThLc9CHKGnbeYnfvLoc5JeVfTw+6x4ejJmZ75FnvHDo9+a49O2P0bz33P8/aInL3E8PxNZZj3hDSaHmXr67l7G65r7nscFeXp0WQ2juF4g0xmhX2A2hazQT2dPvQf+sx+6+Y0ZYg4r/JxlulkdSmMBcfP2WeR26ozOfMh69kab0IrsMPeo30Wb3/IlfOS8bwZlE4mlnn6dNm2ARPXc2Rp8jZJL0csXc6wGTmw6d32fM6w86KCOVCbcP9e/5AZTGO7sq96cUfkKlvsO9O/qQE1th7Bg0aD3UWgtsVjywa6798lvb9PDVi8MWNfn92q2b3Eo/Us7K/Yw9qw/Gczz7mh0rPPo4Dug7dsTvp+7psbds/VvAfWj9QIrsbWXcsxz25Rc45AN2dgZpPG7iIAWau34+0A96P/4GcG6HbLrBul24GUIfS8yj+LUu9J6/Jxsrq/Y0vnbTMwotMMsdidvbtspXd9bV6xvxLcwRsnBq2TbsI31BI2/RBXl5F59aFnvzN8UwOgtjVLJtM1lE+XJ6Czx6N9YFFlOsH1nDnmTF+eoDtnlGX9wbJ/ZOO7f4Ybi2b6KxOO69l1PrSEnricNuV504nMf3HXHZpLB7Qab9ns2HHfz11kV2nTuie7/oDlCazGijmiU6O72hvfKKdjZhQoX5CMQfoPfmYP3Q6qDKFl88wXnqIuhXFlAquK/XT2uLuV7rY9z31meF11mmBr9qKEBE+qE1dC9h7t2x3i5BKhyyj61LPHGToMpuqp0x2W+kdWHV5UnKMB73xY1+BdmQi+32lA7eu56z7jaN4Tlv8iN5R994xOwsrmnC/s+7mLN+zGqO6xHas5JDNHSRPL3F4E2GfFFfrz6itaxjD9Bz2zl24HVoaIsjnnfk9el2G6EUYfVYf+83t3t0jv9jeXPLF8m0X2eX4hvOHpdXK8McsW6zw417UNo0iYLqPv6VfPbmfYeUHFYdBmzKEF+55WaY9q7PSWQfPNdwUvFvHf7x4KO0dNx8/3gSy56xMR+V+xf4euZgx5VmC5vM89fu4KBUPX6a4fBU/6z2yaYeT1LFCr8KITro8wGb367/VMVxm85R1YGULOq/w9zi9+XYYtLBJGjYnL6cDohz/qYdZtNww6y1bN6oQFzRF33tIc007RoHVyvJFhpbnO0dPkRU/612UU/bc9jzN0hMkAJq6QBdh/7gpZmDFb0+M606vRwKI9TAteDGLeb809Oa6rMJodEz7eYGUfWLzN8kQ/+UesTPWWzUHP5waENieuZHGO2rocs+FbwKNCh5a8YfTQf/gzu4TpdjBlCC+bN//T16Uw8szccI/gjh+zVVNRGutziY1j1OIGu8NldaSy60c0ni7T2fAsAnu8RW1cO0UD0smElTapjhCIocvITHrouYvLGSqDZhuoictYJo23HRW+UGG1u3DbXPbvXjzj6NFZxl1dd9//iCu75v3282Y22V10h+2y60ehCzTiGFRVtqDFM3Gfa5blAeZ6EO9KyRk2dzFDiJlZtmqL7KpPDSauk8sSupK0t/7DnunV7XNuWAt13ItnTluG8LL58o+rU09bEcaBGTaP1mmq9rPSZP0o/mc1MzfSbM122+B4O4DB6MQ0/Ni24kJ8fxmbOLpUXxM4Rn4xvyHX6vW68c477wxKemFE6OzdshbfPOWiTzXIVjbJJOn1nvTyDxLZwukC0dm75RhpHvN4qybzb4IgCH1yadgCCINjfyVjftAP5l+wGdtQkyAIwvkizvCCMLH8lMbysKUQBEEYT7R6vW5MTU0NWw5BEARBGBqXAAzDGLYcgnBiNE2TNpxAkl7vSS//INE0TRbQCIIgCII4Q0EQBCHxiDMUBEEQEo84Q0EQBCHxiDMUBEEQEk+AM2yzPa2hae5jersdnKZQCThfoBIrnSAIY0l7m2mHnShEvNDt7WmHTfG/++7r07hMzjgRQydm8ukAGwtUChE2OCEMqH31ansA1Ot1w03ZyIOBXjRa6kweAzD0YsudBgzIG2V1a6to6GCQL8dMJwgnBxi2CAnFfL9tu1DOG6AbtpnwpvXaFMf73yrqLpvTD6NZ7zF1AoZeLBtF3Wlf1TXHfa2ioXvyGc3yD5JBta/otmcYpi79zjDIUalzKsNy3nSOuu52kuq893evdIJwCi6+URhRynl3J9doGUUdo58+rtv5eQx/n4xkvZ9IJy2/M2wVDd2Vj19HI1n+QTKw9tX7GmD4wqTtwwOqgH510j+MrL6mBbSbdUBn4d4COlA9OKRtn4epdMrMq890giCMH+1mHfSreC1FvdkrnFfh4VoVfeEmKTMj6sDBsmNqpldscUQ5uU48pFa5ly8xpxWo0GZ7eo56cY/VBJnMgbWvPq/5nGHrdRXQWbgZoHVLMDPNFOncTRZML8dhW53PM59z5tU7nSAIF4EU6ai/7GjPgc1Rypd5qSx76zVVYGHPwDAMjFYRvTTXc65tPOihkwhyOwblfIk5bZI1iuwlyRMGcsL21euahccZtjEHbVM4B21qtMhUmpRKo19lkhSr9/JAlYPDiuO8I6+e6QRBuBgo+xFCbsd0doZB6+p9z0IGh81JmZ3n2KOpkaSHTkKpUNA0ns1b+lo4YHKcFxUNhFO0r8i2Z+J2hu1DDswYqcNRtTk0T1K8k+ummUqbw8zcPHmgenDffb7fdIIgjCWp9JQ9deKkn+mP1M0FdOo028Dk1e7/x5zT6MRJe/s+Jb3IHSt6llrdo6hXOTi8AErqk4G1r36vuRbQWAtbuotnzAlLAha/OCcx1WrTE6UThFPCRV9IMLKYq/26i/acCx4s26EutoqG7l096knb36rBLqNZ7zF0YhOwgMa7eMRaxOi8dTTLP0gG1L4i254J3tWkZiI8h/smM42noSon6jjfbzpBOC0X3yiMMGqlue+99hr+bsc60Aa48ulvxeDI1nvfOnF+euYfKDgHD0EDiJEt/yAZSPvq0fYMU5davV43Pvjgg57DTkEYVWQrm2SS9HpPevkHiWzhJAiCIAjI3yYVBEEQBHGGgiAIgnAJzHipIIwz0oaTSdLrPenlHySXABqNxrDlEIQTk8lkpA0nkKTXe9LLP0gymYyESQVBEARBnKEgCIKQeMQZCoIgCIlHnKEgCIKQeMQZCoIgCIkn3Bkeb5DJZBzHLfY6AB32blnnNo4dN6jzGxwTJ50gCGNLZ49bDjuxEfFSd/ZuuWyKM6372pjbhhg6MZObZb9lGti+ryWCOLrskdbdxpQ/6xLoDI83MmRW9smuH9FoNGg0Guwu1nhjOcM3NSvh/vNuo+28oFIDFm8wQ5x0giCMJ8dszG6BshO7i+yv+I0MAJ097lZyHFn25Gg9y/6KcnrHPHZc213cZ6WXBxlZYuiEYzYyGe5ym/VsnGtJIaYuI9J29m4x62hjjcZTlifcOfid4fEGK/vA4i5PHalnNhtszgDHz9kHstkssM8j+2lvqAHZK9Y9/aYTBGE8OX7OPovcVnZi5kPWs6rT7GFimadPl1Fv/cT1HFmavO0AzLDpvHYlC823jOVYKI5OmGGz0XDZ2f6uJYQ4uoxMe8zjLVh/0G1jQXicYYe9R/tAlvUPg8dtnbdNIEvudo4sUKu8oGOfh/TliVjpBEEYTzpvm5C94jMwzbd9uLHOG2qk8ZuBYx5v1cjmrkcarlHlVDoRXMTRZWTazluaQOWuY9ovIPLgdoYqhBnYSK0kb2rm9Znr5Ewvx4uOOr/IjZl46QRBuChMcDndTzqz051d/7A7VWKvUVhh3xOVGm/61YnQmzi6dKS1opG5B1aI9Gid7P6Kb07R4wzNm4I8rJUAc8B3hQkmWL69CNSovDh2nI+TThCEi4P13vfgeGOWLdZ54HR4M5v2+oSjK4/GfxGNTX86Efohji69aR0DvAlzgOYdYbqd4cQVIudq1cgxfdl0ZjM3WARqlUfu8/2mEwRhbJm4nIbaG9/cXtQUyPFGhpXmOkdPw+dv3POJ48VJdCIEE0eXkWknrvTVnjzOUIU0t3jcXf7J3i2rl2aNHBftGOcMNxaBWs29KKbfdIIgjC8zN1hkn+fKVhw/ZqumpkCsT6jsWJT5O9ARdva45YhZdV5UQuYTx4BYOhEiiaPLqLQT18lla1RedBzXsuSuuxvYJffTJ1h+usubzAr7Kxn2rbPZ9SOe0l0U4/RlMzcWYd9cdKMy7zedIAjjzAybR+vcms2QASDL+tHT4E+mjh+zVQPYYjaz1T2/uEtj8zq55iyZjDqZZf1oc0w/vYqhE47ZyKzYdpbaLJkty94udyKuJcV+xtFlVNoJlh+sU5k1dQiwuNvwfVqh1et145133jmbsgjCOSBb2SSTpNd70ss/SGQLJ0EQBEFA/japIAiCIIgzFARBEAStXq8bU1NTw5ZDEARBEIbGJQDDMIYthyCcGE3TpA0nkKTXe9LLP0g0TZMwqSAIgiCIMxQEQRASjzhDQRAEIfGIMxQEQRASz4g7wzbb0xqapqFp02y3hy2PIAiCcBHxOEOn8/Ef0+fsjdrby6xVIV82MIyXrKbO9fGCIPSivc20w0YUKlFJp132xJU2Rj4jT8yyKL0E2deoa4kgji7D0lYKIT6tgCu7er1uBFLOG4ChF1vB18+cllHUMSBvlIckgTAeAMMWIaGUjbzTRpTzBuhGoMloFQ1dLxot+6fueLdj5ONgNOs9TllU2rJR1L22NuqayWiWf5CcRJf9taFyHoN817MARqgzLOcxAMOR3mrAulEsmo5SZabSms6zaOQd1+x7ykVDt9LgeCmMluO8us97zlEoMz9P+gj5wp9vKs/Mx+1w3c/wPttffmG4XHyjMKKU8553x+zA9vVatIqGrt6tE+YzkvV+orK0Qh1e1LWRLP8giaPLOGmdbc8CMELmDNs06wA6Vye7Z1uvq0CVtdfzGIaBsZOjUtCYK6lQZouFgzVKgG7daN9zH/YMg3IeqK7xsAJQoTC5RlUv0jIMO09Sq7ws5wHQiy07RFopaEyuVa1nGbSKOpTm7BBCkHxhz5/UnjGv8qDEfSsP8xlQbBkYrSI6VdaWt2mH5C8ISaXdrIN+lUnP+Xqzj5Be6zVVpkinTpnPiHGRyjJs4ugyTtrKwzWq+Xu+abcQZ9jidRWwGqv1OMtB5ikrJ9De5n4JyJcxT6W4uaADMJVO4XSqxb1VfFN+7SZ1gOprWkGFs/NxPEsvcsd6fCpt/hm56utWsHwRz8+Xd3C6sql0yn6GXtwzFdV6jamGNKnA/AVB6JIi3ddfdmyzfb+EXrxD8JvUbz7jwEUqy7CJo8uwtBWelSA/7295wc5QOan8vKOxWg7Sca59eECV7igQ2hweVOmOKK179AVupszrrhFnapV7eYASc5qGNm2OwECNwrojU/tZCzd9TtV8vl++8OfnUbpwPkc9o7o2aU6wmkNeawQYlL8gCF3U+xVNpTDJGkX2QlfE9ZfPeHCRyjJs4ugyOG17+z4lx4DKSaAz9Ds5oPLMFf500h29HXLgdD7KqU6lLQfmdU6Q2zHDq0UdqB5w2HYWxDky9TwLqDwrAToLN1PB8oU+Xw2n3c9RjrHYskK2zlBoRPkFIYmk0lOBUZ0p70vroFLQmKsXab3sRmpOks+ocpHKMmzi6LK/tBUerlXJ3wuIUhLiDE2n4M7IF7Z0YMZl22wvrznCil2nag9JXc6pQsG7tNV2fv5RmAqJ2jHgSoG5EmDFfoPki36+4zmWc5y8qgNVXns12qP8gpBIcvPkKfHMXsL+kLWqirpYn2nZ69vN315H2DufMSOWToRI4uiyjzbU3r5PiYh25V9Nqj5pcK+2MVeMepeqOldkdldsqpVPvnu8n2tYv/Gu6Gy583HL4Fy52vJci5ZZrRK1VxipVavdE1bZ/atVg8svjAJc9FV1o4xr5bfz/bDeJfVuud71gNXgofmEM7L13q9OXPbTa9eirpmMbPkHSd+6jEprGL5PLzwAhlav140PPvjgJH77zGhvT9urRmWtitAL2commSS93pNe/kEyols4qUU4YxomEQRBEMaOS8MWwEWlYK7gxP/pgyAIgiCcFaPlDHM7GMbOsKUQBEEQEsYlMOOlgjDOSBtOJkmv96SXf5BcAmg0GsOWQxBOTCaTkTacQJJe70kv/yDJZDKjuIBGEARBEM4XcYaCIAhC4hFnKAiCICQecYaCIAhC4hFnKAiCICSecGd4vEEmk3Ect9jrAHTYu5XxXMuwcaxudFzvnnSc3+A4VjpBEEaWzh63Au1AWPJbATYFj71xnB9HTqiTWwGFDtVXUoihS7eu3Gnd14J9S6AzPN7IkFnZJ7t+RKPRoNFosLtY443lDN/UgOw6R40GjaN1ssD+StfJvalZGe0/7z6084JKDVi8wUysdIIgjCbHbMxugbITu4vsr4Qb7M7eLWYrOdNuNBo0Gk9ZnsB0hCtN1o+s87tptmbHtTMcRyfHbGQy3OU261n/1VB9JYYYuuzscdehq6P1rMMnHfPYcW13cZ+VAK/qd4bHG6zsA4u7PHVofmazweYM0HlLEyB9mcB6OX7OPpDNZoF9HinJO2+oAdkrE/HSCYIwmhw/Z59Fbis7MfMh61nVafYl5vEWrD9Y9tmNztsmZHNcVxdmbrBIk7fjOAqKpZMZNhsNl511ZBSqr8QQR5cTyzx92tXVxPUcWbsNzbDpvHYlC823eLPxOMMOe4/2gSzrHwaPyzovKi5nZf9e/xDTVzaBLLnbObJArfKCjn0e0pet+/pMJwjCaGI6sSs+Y90M8mJWJ7py1zG9YvXOJy6nofbGY5zCHMhoE0sn0RmF6ispnEqXnTfUSON3I8c83qqRzV335et2hipEGZiJeoYZ26xtzZLJZDBHsd3ejXk9zeWZ6+RML8eLjjq/yI0ZYqUTBGFcmOByOuSSFfHJPbBCfkfrZPdXzHmdmU0zdGXP6TyiGRA2HE8idBJFlL4SS7+6NAd1aoAGOOakV9j3RD0VHmdoVkCQN1YPMQdui+w2GuwugrsHZ13PXmGCCZZvLwI1Ki+OHefjpBMEYXxQ9iEMRyd7wuwEq17+zGbDXp/QaNwmXQvPZbzopZMowvWVTPrT5fHGLFus88Dp8GY27fZ1dOVR4CIatzOcuEJkh0yNHC1nNXNjEYD958fu62o+ceYGi0Ct8sh9vt90giCMLMHhzZApjokrjjmcHlhzReMYHYqlk8iMYujrgnISXR5vZFhprnP0NHyu1T2f2MXjDFXIcovHrk8lLC+qRo7KWSnnqVaDWtcX7VY8w41FoFZzL4rpN50gCKPLzA0W2Uf1hTl+zFZNOTHrEykV15u4Ti5bo/Ki40ibJXfd+64fs7HiCXGNE3F0EkXf+rrAxNKl+TvQEXb2uOXQubnOxT8V6NnPcILlp7u8yaywv5Jh3zqbXT/iKd3FLbYTm7hMGqhZXnbCWhTj9GUzNxZh31yUoyqy02c6QRBGmRk2j9a5NZshA0CW9aOnIU5sguUH61RmZ8lsmWcWdxvmpwKdPW7NbqEio9n1o5AVluNAHJ0cs5FZse0sNVM3qvyh+koMMXR5/JitGsAWs0phAIu7NDavk2vOksmok1nWjzZ9+Wj1et145513Bl0KQTg3ZCubZJL0ek96+QeJbOEkCIIgCMjfJhUEQRAEcYaCIAiCoNXrdWNqamrYcgiCIAjC0LgEYBjGsOUQhBOjaZq04QSS9HpPevkHiaZpEiYVBEEQBHGGgiAIQuIRZygIgiAkHnGGgiAIQuIRZygIgiAkngBn2GZ7WkPT3EehcprHOPJ0ZaTOF+idvUo7zXb7NLIIgjAw2ttMx7AT7e1ph12x3uVKwWdvzKMfuzCCnFAn0wGGLepaIoijy7C0fbavAGfY4nUV0Iu0DAOjVUQHSnOnaZhWngClZ9182occVIH8PLl+89AXuJk6sSCCIAyMCoXJNSi2MAwDo5ynNBfeWW1vTzN5sGDaFcPAMF6ymgJyO9bv7lHO06ddGDXi6KRCQdNY5h5FPc61pBBTl2Fp+21f9XrdcNEqGjoY5Mvu3+SNsp1ENwDr0I1iy3OvOlQe5bwBGLpu3qerG9R5O24T53YAABCtSURBVIOQvK10zkNlLQjAsEVIJuW8yy4YRsso6mHvZtnIO21FFK2iofeRdiTrPZZO3Gn0wAKHXxvJ8g+SOLqMkzagfQGGb2TYPjygCuhXJ92/i3fIAZWChumA1aixytryNm3LM1fViNIwMHZMv9tu1gGdhXsL6ED14JC2fR6m0uZQLzTv3A5GOQ+Abnn+nfHrMgrChaLdrIN+lUnP+XozoOveblIHDpYdYaqQmFfl4RrV/D1z1DhmxNKJEEkcXcZJG9a+fM6wZcUzq2uTaFrXOb1cTUF7m/sl0It7Zkat11QBptKkrMZO9TWtwDynSOdusmB6Qw7b6nye+RzReeN3nIIgjBop0mF/2dF6nxf2rI5yq4hemguYA6rwrAT5+YvS243QiRCTOLoMSxvevjzOsI3pc/KUVVyVKq8t76ZGicpRanMlyJfNEWBqlXt5gBJzmoY2vU3bmad+lUlSrN7LA1UODiuO8z3yps3hQRXQuep1/YIgjAjKfoQxhd2XTZkdY2/Pvb19n5Je5M5F8YU9dSL0TxxdBqeNal9uZ6gWtFgOKjdvhiZLz8zumzmS080wpicUCpDbMTCMljnha43+7DytER65efJA9eC+63x03rJ4RhBGjVR6KjASFBi9mbyKTp3oaGGFh2tV8vdWGdfXPJZOhEji6LK/tNHty+0MPaFJswFjrwCdvKrjHCk6H1LwLYO2eoFWnt1haY75PFCtuuYmw/PGnm8QBGGEyM2Tp8Qzewn7Q9aq1rSH+hRKxUFTN1nQqxwcth1pdRYcvdv29n1KatpkXImjEyGaOLqMTGvSs305V5OqlZzdFThlI+9aMWqu0CFixSiBK089K8PstM7zEXl7rslKUsEJF31V3SjjWkEe8D47X1bPanP3e2zamuAVlcGMbL33rRNlX92HqYOoayYjW/5BcuL25V2NHN2+AEOr1+vGBx98cELXLQjDR7aySSZJr/ekl38Q5P71nwPwF//tn8ufYxMEQRCES8MWQBAEQRDOEzUidCIjQ0EQBCHxXAIz9iwI44y04WSS9HpPevkHySVAJmGFsUYWEiSTpNd70ss/SDRNkzCpIAiCIIgzFARBEBKPOENBEAQh8YgzFARBEBKPOENBEAQh8YgzFARBEBKPOENBEAQh8YgzFARBEBKPOENBEAQh8YgzFARBEBKPOENBEAQh8YgzFARBEBKPOENBEAQh8YgzFARBEBKPOENBEAQh8YgzFARBEBKPOENBEAQh8YgzFARBEBLPJTC3vBeEcUbacDJJer0nvfyD5BKA8d3OsOUQhBOjvVfAMIxhiyGcM5qmJbrek17+QaJpmoRJBUEQBEGcoSAIgpB4xBkKgiAIiUecoSAIgpB4xBkOlO/Z/nkB7b0C2nsP2H57knufUAn8fb5UPu63DMOVUxAEYRBEOEOnYT8vQ+d8ZoHCV97rdQrvndTZnD3t3T9j7RXkn+xgfHeX1ctx7v6e16+Aa7/HZODv8+R7mn8F8Puke5ZhmHIKwgjS3mZa09Cso9DDeLa3p9E0jenttvtCpWDnEXhdGCjhzvCrI9ZeqR9/TfNcHI8yrO+jA/U337uuVj7+JSX7Vz+G+jz5nsMvvgV+zPxPTnD727+hDvDDH5AK+n2uxHBwQ5VTEEaNCoXJNSi2MAwDo5ynNDdNsB+rUNA0lrlHUQ+4Nlen2DLMfFpFWFsOyUcYBCHOsE5h6Wvgx+SXAL7ltXKGb79k+r0C2sd1O7U3pGb+No/p3S/N0ZwjfShffUMJ0H92jSmg2nI4w6+eMPcE9E8XyIPLULd3H9jP844Yo2Qx73vA9ldWmd4roP38S8Lam/s5jjK9/ZLp935hdR6+Zi5k1Bqpl7e/oQrk/+lU8G+fHEFyO0fO7tF8qOxBsn38jc/BherYJ7dDpn7rXRAuCpVnlMhzb9V6c3J3KOpVXreCEufYMQxergZ0OdtN6kyRVi9gKo3fEgiDJNAZtncPTaf06Sx3Jt8HHKO0yz/wVEqdZ0+Aa9e4edk0qnNPVKjwI6Y+OaBEsFH3PffNXwMwdeVHXL0G/NXfWI7pe7aLX8O1Bfau/MZymD8ihfm8yU+g+HIH4+UCOt+ytmo6NLcsn7HwhSmLPvkuAK3Wt8C3rBVh77sdykvAqwMe+sKz6jnfWnnt0Pr0fXjyS6Z3v4fLP+Xlkx8DoH/6WWCItJcslb/4Gnifq9Z93t9OwuSefO8b5pVsfM393e97y+6T7SOmnnztcnCROnbJWacwfUD12gKt78xnGZ/LKywkh3azDvpVX0Sl3ow5pEutci9fYk4rUKHN9vQc9eIeqxJ+OTMCnGGdh5+Y4b57K++SuvL7wXcqR2WP5n5E6u2X3H8CLH3Ezk8ApphfgjCj7sU08o60r35DC8dc3NpPwXaY74L1PP3TPzSdjzVK4Yc/CJDlXW7+7P3uvfa82PsUt38aHeJTeV1b4I4VAlV6UaPXtlOusPt7yqJCv1FzduFy558skXP8duooVPZedRalY6+cKmRq1ZsgCCnSJ+wP5nYMyvkSc9okaxTZE094pvicoZqX0z+dNQ3r5d9DxxmyfNcctb36DS01YrMcZ/v5K6p0RztxF2I0/wprhPku6R8C/DXNr75k+ZNvbWPtdJjqedVPfmGG5Ja+hqWPMD6fCpTFnNNTzlbNi5kjWqeT8TpuOy9rNOrEPcoMdvr9y9LP4pkwubtzlUE6CpO9V51F6dgn5+Wfcm8JzFBxdMhZEJJBm+aJZgrM+cRn8+acYWvhgEktbO5RGARuZ6hGCTiM3/SBORKwQ5YOR7VrLrKxHaeFPTp6+5cc9L0Qw0przVNNTr4PfMva0gFV3qf4R6bxdRpqZfSLL62QXEBYzi+L5UR8Cz+8TsaPc9SnwoMLN4JGdj3u7yVL1KKUULm7jjRIlnDZw2Qz84vUcYCcuc/NMHDxGvDqFYcjtuJXEM6SVHoKqq99kZGpdLxRXXv7PiW9yB3LsKZW9yjqVQ4OxRueFQ5n+D3bq5bjcRo+27B1Q1+2o/rEmsdbcYcGzflFa/4IbGOpFmGouSoXVvhNjVCc4dluiM4y1Et/QM4hx+sIg2vKosrmkMUa8XQXfoQ7ICWLPW9qLeZh6aY1N2g5JEuu08rik81Bb7ndzrG37E7Z/HUWpWO3LHUKvk9wRm3FryCcMbl58pR4pl6EykPWqnnmcwBttqc1tF7fWhDgVNuHHFTjO1Whf7rOUH1K4TGSrpGgZRC7jso9b5VauUkeNar8hnlrUYky3OYoI3hezTfnZoVnVQgW8DvMlT+keA1KS/7Vi25Z/gzWFtCJCGt68nbxkyXKS+5Qof7pZ74RUuC9J5AlKuTqvdbTOfaQ3S3bIVefmLKp/KJ07JZlip0nmOHR937B2qsfU/5uKbJzIAgXjxw7rSL1Oev7wLk6xdZOyHtghkI1bZK1KlTXJrvfE+Z2rPlCKx/rc40deaHODK1erxsf/OOXZ5J5e/eBtQox7gfo44VZTnO15s5JvjEUToVs4ZRMkr6FUdLLP0gGvoVTe/eB46/GWKtSI+bgLgan/NheEARBGDqukaH2XmHI4ggXkbPePFpGhskk6SOjpJd/kGiaZu50r5Ad7wVBEIQkcglkRCiMP5qmDVsEYQgkvd6TXv5BcglkRCiMNxImTSZJDxMmvfyDZOALaARBEARhHBFnKAiCICQecYaCIAhC4hFnKAiCICSeC+cMvRsNn9e9J+d7tn8evDFx//eqvwnq/X2+9K+/4copCILgJcIZOo30ORqtr564d2S3twFS8kQZ2zhbRg3y3pNj79X4ZCdwU+Bo4mz9dNbE265reHIKgjA2tLeZVn+fVdOI/BvnUWkrBfu8FrIVVrgzVH+4G3D+ke4z5asn3f3yvrN2Vbd3y+i9xdLpjOwwDPQp/5RbnK2fzpwY+huqnIIgjAcVCtYfKDcMA6OcpzQXtqdjRNpKwfqD6YZ1bYq1yYJvgBfiDOsUlsxNe/NL4NrC5+2XTDt2LgB/eMz8XbC2a/qSgid9aNH/4mvAsQPD5Z/y8rslcl89QXvP3HSYVwdMvlew/waq61kffxPLyPa6V2055Qph9lF+J+48HPe9/ZLp935hdTi+Zi7k/khdWjttdHes+E341k+7D0wZv7Lkt0fddTPPgAhAqOyn0V+g3A6Z+mwrgiBccCrPKJHn3qplUXJ3KOpVXns3i+yRtt2sg77ATXvT1Xny1Gl6nGqgM2zvHtq73d+ZfB9w7Id3+Qe4TW2dZ0+wR2yVjwvMPVFhv4+Y+uSAEsEG2suk9azSkscx/GQJw9oOSv/0M4zvzN0hfM968nWoM/DS697KxwVrxw1rhMq3rK1+SbtH+b3PULtZGN/t0Pr0fXjyS3M/x8s/5aWrTP4QqVvGz1j4wtSl2vpJbdKrtnPy/nZibrf0LWtF2Ptuh/ISVsfiG+aVbHzNfWuvyUjZT6M/n5zWHorXFmiFbNAsCELyMJ3YVV+kqe71Yj3SBm+47HeqAc7Q2m3C2kfQucmuC7Xz/VffmAb6Zz8i9fZL7j8Blj6ytjKaYn4Jwgy0F7V3HnzL2rRzvjBgv8PTPKvXvdb17qbCv3FteBta/qBnXFvgjhUCVbqstr4PLlOkjO9y82fvO9J75+ii5uzUNff+kwD5J+49B6euvNtb9lPpzyOnCpk6No8WBEHwkyLddz/Zkda7N6R2n7ruv8PnDCsf/9IeFebA3mRXGXB4l6vXsIzX92wXzXDqvZV37Y1mu5vcxl2U8i6rf65GEsCrAx5+ZeZjzq35N7U9ybN63auuOzfEZekja8QSXv7AZ3idJBEbDPeQ0a2DOItnvPOtqrzduUqnLL1kP53+PHJe/in3lsAMFbs7QIIgCF3aNPueQXGnze1Y84WGgWHcY6rqv8PtDFWPH4chmz4we/VqJIRj5/tdc5GN7TgtuqO3v+TgJItSbAOpCF88c5pnhd2rHEPxpRW2c4Xuepc/8Bl0w4MLN4JGdv3KaOkgzuIZ3zW/Iw2SJVz2MNn60F+AnLnPzTBw8Rrw6hWH5/ppiyAIo0hweBOm0v4VIXHSqvnFeY/RdjjD79lePaDqNWK2keqGscy5vW9Z++RruLbAnmdUZM4vWnNBYBs+taBCzTu5nv1z5wIL5ZStkYsyoAHEf1bve1X5XocY5V7lh25Y0Z5r/eoJc0+ApZvW3KDlkJb+INSRdu9XdeMonzX6UnN03t9OfNd6OMfesjtli6c/tyx1Cr7Pds730xZBEEaU3Dx5SjxTBqLykLWqcmJttqc1NPX9RGRaJxUKcyX04h2f3e06Q/UphcfguUZClnHrziO656BSKzfJo0aV3zBvLRBRRtgcMQTNkb1L+ofWPKEajV5boPWdNZ91+UcsXMO1ktT9rEOuPjFDq72f1fteNXdZWgpe4RhWfhc/WaK85A4V6p9+5hshdUONUTL+GayZMoaFWKNCrt5rPZ1jD9lPoz+3LFPsPMEMj773C9Ze/Zjyd0uRnQNBEJJCjp1WkfqcNdc3V6fY2gmxDxFpXd8fzlEvtni56rfarp3uB01794G1ojDux+QXH1M35mrNnZN8YyjYyBZOySTpWxglvfyDZOBbOLV3H9jf/9mrUiM/kk8qp/zYXhAEQRgorpGh7HgvjApxNpyWkWEySfrIKOnlHySappk73Stkx3tBEAQhiVwCGREK44+macMWQRgCSa/3pJd/kPx/tadfpMULapwAAAAASUVORK5CYII=)"
      ]
    },
    {
      "cell_type": "markdown",
      "metadata": {
        "id": "J9t27A9SRQOB"
      },
      "source": [
        "![image.png](data:image/png;base64,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)"
      ]
    },
    {
      "cell_type": "markdown",
      "metadata": {
        "id": "dRdXrbyaGti2"
      },
      "source": [
        "# Results:\n",
        "\n",
        "According to our results, we can conclude that Convolutional Recurrent Neural Networks Model (CRNN) is the best performing model having an accuracy of 0.69.  We achieved such a high performance primarily because of Data Augmentation. We have used data augmentation in this model which helps in increasing the diversity of training data, improving the generalization of the model as well as in producing efficient and robust models. We have computed the mean and standard deviations for all the models used which include Random Forest Classifier Model, Deep Neural Networks Model (DNN), Convolutional Neural Networks Model (CNN), Transformer Model, Convolutional Recurrent Neural Networks Model (CRNN) and Residual Networks Model (ResNet). The average mean and standard deviation for our results are 0.18and 0.09 respectively and the mean and standard deviation of our best model (i.e CRNN Model) are 0.16 and 0.23 respectively. Secondly, the Convolutional Neural Networks Model (CNN) and the Transformer model are the worst performing models as per the above table. This can be seen primarily due to not using data augmentation for each of these models. It can also be seen that the epoch input also plays a cardinal role in the success of the models. In this case, for CNN and Transformer, we have kept a significantly low epoch value for the purpose of training the model which thereby implies the low accuracy score.\n",
        "\n",
        "We tried different epoch values for our best model so as to check for the optimum result however, due to technical limitations we were unable to attain the desired value for the epochs used. We have set epochs as 200 for the CRNN model, which is our best model, and was the highest which could work using the available resources we had at our disposal.\n",
        "\n",
        ""
      ]
    },
    {
      "cell_type": "markdown",
      "metadata": {
        "id": "_UwX_rf_Gv9-"
      },
      "source": [
        "# Summary:\n",
        "\n",
        "\n",
        "\n",
        "We would recommend using the Convolutional Recurrent Neural Networks Model (CRNN) for this task as the model that performed the best was CRNN achieving an accuracy of 0.69. Due to CRNNs features such as capturing of temporal and spatial information, robustness to noise, flexibility and state-of-the-art performance makes CRNN the best model to use. Data Augmentation also plays a vital role in the success of this model which is primarily responsible for improving the performance and robustness of a CRNN model. It not only improves generalization performance but also increases data efficiency in training the CRNN model. Secondly, as stated above, epoch values also have a significant impact on the accuracy of a model. Having used an epochs value of 200 for the CRNN model, makes CRNN a better performer than the rest.\n",
        "\n",
        "Post submitting the models on Kaggle, we received a score of 0.65, which can be viewed as a good performance especially in comparison with peer groups. The score has some room for improvement whatsoever and can be done further by increasing the epochs value. In our case we could not achieve it due to technical inability however, given a favourable technical infrastructure, we could attain a better overall score.  "
      ]
    },
    {
      "cell_type": "markdown",
      "metadata": {
        "id": "jh_VHqQ9Rt3p"
      },
      "source": [
        "# References:\n",
        "\n",
        "www.w3school.com\n",
        "\n",
        "www.github.com\n",
        "\n",
        "www.stackoverflow.com\n",
        "\n",
        "www.geeksforgeeks.org"
      ]
    }
  ],
  "metadata": {
    "accelerator": "GPU",
    "colab": {
      "machine_shape": "hm",
      "provenance": [],
      "include_colab_link": true
    },
    "gpuClass": "standard",
    "kernelspec": {
      "display_name": "Python 3 (ipykernel)",
      "language": "python",
      "name": "python3"
    },
    "language_info": {
      "codemirror_mode": {
        "name": "ipython",
        "version": 3
      },
      "file_extension": ".py",
      "mimetype": "text/x-python",
      "name": "python",
      "nbconvert_exporter": "python",
      "pygments_lexer": "ipython3",
      "version": "3.11.4"
    }
  },
  "nbformat": 4,
  "nbformat_minor": 0
}